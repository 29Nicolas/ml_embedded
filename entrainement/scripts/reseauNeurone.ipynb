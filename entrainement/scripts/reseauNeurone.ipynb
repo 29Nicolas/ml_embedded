{
 "cells": [
  {
   "attachments": {},
   "cell_type": "markdown",
   "metadata": {},
   "source": [
    "# Reseau de neuronne\n",
    "\n",
    "## Importation des librairies"
   ]
  },
  {
   "cell_type": "code",
   "execution_count": 11,
   "metadata": {},
   "outputs": [],
   "source": [
    "import numpy as np\n",
    "import matplotlib.pyplot as plt\n",
    "import pandas as pd\n",
    "import tensorflow as tf\n",
    "from sklearn.model_selection import train_test_split\n",
    "from sklearn import preprocessing\n",
    "from tensorflow.keras.models import Sequential\n",
    "from tensorflow import keras\n",
    "from tensorflow.keras.layers import Conv2D, MaxPooling2D, Flatten, Dense, Dropout\n",
    "from sklearn.metrics import confusion_matrix, classification_report"
   ]
  },
  {
   "attachments": {},
   "cell_type": "markdown",
   "metadata": {},
   "source": [
    "## I. Lecture des descripteurs"
   ]
  },
  {
   "cell_type": "code",
   "execution_count": 4,
   "metadata": {},
   "outputs": [],
   "source": [
    "data = pd.read_csv('../../predict/model/output.csv')\n",
    "data = np.array(data.values)\n",
    "label_names = data[:,1024]\n",
    "unique_label = np.unique(label_names)\n",
    "feature_values = data[:, :1024]"
   ]
  },
  {
   "attachments": {},
   "cell_type": "markdown",
   "metadata": {},
   "source": [
    "## II. Réseau de neuronne\n",
    "\n",
    "On commence par séparer les données en deux ensembles: un pour l'apprentissage et l'autre pour l'évaluation du modèle"
   ]
  },
  {
   "cell_type": "code",
   "execution_count": 5,
   "metadata": {},
   "outputs": [],
   "source": [
    "# split données\n",
    "X_train, X_test, y_train, y_test = train_test_split(feature_values, label_names, test_size=0.33, random_state=43)"
   ]
  },
  {
   "attachments": {},
   "cell_type": "markdown",
   "metadata": {},
   "source": [
    "On poursuit en transformant les labels en indice:"
   ]
  },
  {
   "cell_type": "code",
   "execution_count": 6,
   "metadata": {},
   "outputs": [
    {
     "name": "stderr",
     "output_type": "stream",
     "text": [
      "2023-01-05 20:30:07.868450: W tensorflow/compiler/xla/stream_executor/platform/default/dso_loader.cc:64] Could not load dynamic library 'libcuda.so.1'; dlerror: libcuda.so.1: cannot open shared object file: No such file or directory\n",
      "2023-01-05 20:30:07.868491: W tensorflow/compiler/xla/stream_executor/cuda/cuda_driver.cc:265] failed call to cuInit: UNKNOWN ERROR (303)\n",
      "2023-01-05 20:30:07.868530: I tensorflow/compiler/xla/stream_executor/cuda/cuda_diagnostics.cc:156] kernel driver does not appear to be running on this host (nicolas-Lenovo-IdeaPad-C340-14IWL): /proc/driver/nvidia/version does not exist\n",
      "2023-01-05 20:30:07.868989: I tensorflow/core/platform/cpu_feature_guard.cc:193] This TensorFlow binary is optimized with oneAPI Deep Neural Network Library (oneDNN) to use the following CPU instructions in performance-critical operations:  AVX2 FMA\n",
      "To enable them in other operations, rebuild TensorFlow with the appropriate compiler flags.\n"
     ]
    }
   ],
   "source": [
    "# enc labelNames to indices\n",
    "encName2Ind = preprocessing.LabelEncoder()\n",
    "encName2Ind.fit(unique_label)\n",
    "labelIndices_unique = encName2Ind.transform(unique_label)\n",
    "labelIndices  = encName2Ind.transform(label_names)\n",
    "\n",
    "# Conversion des noms des labels en indices\n",
    "labelInd_train = encName2Ind.transform(y_train)\n",
    "labelInd_test = encName2Ind.transform(y_test)\n",
    "\n",
    "X_train = tf.convert_to_tensor(X_train, dtype=tf.float32)\n",
    "X_test = tf.convert_to_tensor(X_test, dtype=tf.float32)\n",
    "y_train = tf.convert_to_tensor(labelInd_train, dtype=tf.float32)\n",
    "y_test = tf.convert_to_tensor(labelInd_test, dtype=tf.float32)"
   ]
  },
  {
   "attachments": {},
   "cell_type": "markdown",
   "metadata": {},
   "source": [
    "On normalise les données pour réduire la complexité et donner le même poids à tous les descripteurs."
   ]
  },
  {
   "cell_type": "code",
   "execution_count": 7,
   "metadata": {},
   "outputs": [
    {
     "name": "stderr",
     "output_type": "stream",
     "text": [
      "/home/nicolas/Documents/3A_ENSTA/ml_embedded/vultr-tensorflow/lib/python3.8/site-packages/numpy/core/_methods.py:239: RuntimeWarning: overflow encountered in multiply\n",
      "  x = um.multiply(x, x, out=x)\n"
     ]
    }
   ],
   "source": [
    "# Normalisation \n",
    "images_mean = np.mean(X_train, axis=0, keepdims=True)\n",
    "images_std = np.std(X_test, axis=0, keepdims=True) + 1e-7\n",
    "X_train = (X_train - images_mean) / images_std\n",
    "X_test = (X_test - images_mean) / images_std"
   ]
  },
  {
   "attachments": {},
   "cell_type": "markdown",
   "metadata": {},
   "source": [
    "On crée ensuite le réseau de neuronne."
   ]
  },
  {
   "cell_type": "code",
   "execution_count": 9,
   "metadata": {},
   "outputs": [
    {
     "name": "stdout",
     "output_type": "stream",
     "text": [
      "Model: \"Sequential_CNN\"\n",
      "_________________________________________________________________\n",
      " Layer (type)                Output Shape              Param #   \n",
      "=================================================================\n",
      " dense_2 (Dense)             (None, 256)               262400    \n",
      "                                                                 \n",
      " dense_3 (Dense)             (None, 10)                2570      \n",
      "                                                                 \n",
      "=================================================================\n",
      "Total params: 264,970\n",
      "Trainable params: 264,970\n",
      "Non-trainable params: 0\n",
      "_________________________________________________________________\n"
     ]
    }
   ],
   "source": [
    "## creation du reseau de neuronne\n",
    "model = Sequential(name=\"Sequential_CNN\")\n",
    "# couche de classification\n",
    "model.add(Dense(256, activation='relu', input_shape = [1024]))\n",
    "model.add(Dense(len(unique_label), activation='softmax'))\n",
    "model.summary()"
   ]
  },
  {
   "attachments": {},
   "cell_type": "markdown",
   "metadata": {},
   "source": [
    "Apprentissage :"
   ]
  },
  {
   "cell_type": "code",
   "execution_count": 10,
   "metadata": {},
   "outputs": [
    {
     "name": "stdout",
     "output_type": "stream",
     "text": [
      "Epoch 1/40\n",
      "21/21 [==============================] - 1s 7ms/step - loss: 2.0440 - accuracy: 0.2720\n",
      "Epoch 2/40\n",
      "21/21 [==============================] - 0s 7ms/step - loss: 1.5550 - accuracy: 0.4664\n",
      "Epoch 3/40\n",
      "21/21 [==============================] - 0s 7ms/step - loss: 1.3841 - accuracy: 0.5351\n",
      "Epoch 4/40\n",
      "21/21 [==============================] - 0s 7ms/step - loss: 1.2455 - accuracy: 0.5770\n",
      "Epoch 5/40\n",
      "21/21 [==============================] - 0s 8ms/step - loss: 1.1351 - accuracy: 0.6293\n",
      "Epoch 6/40\n",
      "21/21 [==============================] - 0s 8ms/step - loss: 1.0776 - accuracy: 0.6323\n",
      "Epoch 7/40\n",
      "21/21 [==============================] - 0s 8ms/step - loss: 1.0037 - accuracy: 0.6682\n",
      "Epoch 8/40\n",
      "21/21 [==============================] - 0s 7ms/step - loss: 0.9275 - accuracy: 0.7160\n",
      "Epoch 9/40\n",
      "21/21 [==============================] - 0s 7ms/step - loss: 0.8652 - accuracy: 0.7519\n",
      "Epoch 10/40\n",
      "21/21 [==============================] - 0s 8ms/step - loss: 0.8540 - accuracy: 0.7280\n",
      "Epoch 11/40\n",
      "21/21 [==============================] - 0s 6ms/step - loss: 0.8000 - accuracy: 0.7698\n",
      "Epoch 12/40\n",
      "21/21 [==============================] - 0s 8ms/step - loss: 0.7489 - accuracy: 0.7713\n",
      "Epoch 13/40\n",
      "21/21 [==============================] - 0s 8ms/step - loss: 0.7045 - accuracy: 0.7997\n",
      "Epoch 14/40\n",
      "21/21 [==============================] - 0s 6ms/step - loss: 0.7008 - accuracy: 0.7952\n",
      "Epoch 15/40\n",
      "21/21 [==============================] - 0s 8ms/step - loss: 0.6713 - accuracy: 0.8146\n",
      "Epoch 16/40\n",
      "21/21 [==============================] - 0s 7ms/step - loss: 0.6440 - accuracy: 0.8326\n",
      "Epoch 17/40\n",
      "21/21 [==============================] - 0s 7ms/step - loss: 0.6088 - accuracy: 0.8206\n",
      "Epoch 18/40\n",
      "21/21 [==============================] - 0s 6ms/step - loss: 0.5840 - accuracy: 0.8341\n",
      "Epoch 19/40\n",
      "21/21 [==============================] - 0s 4ms/step - loss: 0.5658 - accuracy: 0.8341\n",
      "Epoch 20/40\n",
      "21/21 [==============================] - 0s 4ms/step - loss: 0.5683 - accuracy: 0.8520\n",
      "Epoch 21/40\n",
      "21/21 [==============================] - 0s 4ms/step - loss: 0.5548 - accuracy: 0.8371\n",
      "Epoch 22/40\n",
      "21/21 [==============================] - 0s 5ms/step - loss: 0.5581 - accuracy: 0.8386\n",
      "Epoch 23/40\n",
      "21/21 [==============================] - 0s 4ms/step - loss: 0.5093 - accuracy: 0.8565\n",
      "Epoch 24/40\n",
      "21/21 [==============================] - 0s 4ms/step - loss: 0.5034 - accuracy: 0.8520\n",
      "Epoch 25/40\n",
      "21/21 [==============================] - 0s 4ms/step - loss: 0.4949 - accuracy: 0.8685\n",
      "Epoch 26/40\n",
      "21/21 [==============================] - 0s 4ms/step - loss: 0.4788 - accuracy: 0.8550\n",
      "Epoch 27/40\n",
      "21/21 [==============================] - 0s 5ms/step - loss: 0.4544 - accuracy: 0.8714\n",
      "Epoch 28/40\n",
      "21/21 [==============================] - 0s 5ms/step - loss: 0.4793 - accuracy: 0.8445\n",
      "Epoch 29/40\n",
      "21/21 [==============================] - 0s 4ms/step - loss: 0.4788 - accuracy: 0.8580\n",
      "Epoch 30/40\n",
      "21/21 [==============================] - 0s 4ms/step - loss: 0.4741 - accuracy: 0.8700\n",
      "Epoch 31/40\n",
      "21/21 [==============================] - 0s 4ms/step - loss: 0.4179 - accuracy: 0.8819\n",
      "Epoch 32/40\n",
      "21/21 [==============================] - 0s 4ms/step - loss: 0.4216 - accuracy: 0.8849\n",
      "Epoch 33/40\n",
      "21/21 [==============================] - 0s 4ms/step - loss: 0.4246 - accuracy: 0.8894\n",
      "Epoch 34/40\n",
      "21/21 [==============================] - 0s 4ms/step - loss: 0.3936 - accuracy: 0.8849\n",
      "Epoch 35/40\n",
      "21/21 [==============================] - 0s 4ms/step - loss: 0.4089 - accuracy: 0.8789\n",
      "Epoch 36/40\n",
      "21/21 [==============================] - 0s 5ms/step - loss: 0.3861 - accuracy: 0.8894\n",
      "Epoch 37/40\n",
      "21/21 [==============================] - 0s 7ms/step - loss: 0.3642 - accuracy: 0.8924\n",
      "Epoch 38/40\n",
      "21/21 [==============================] - 0s 5ms/step - loss: 0.3757 - accuracy: 0.8954\n",
      "Epoch 39/40\n",
      "21/21 [==============================] - 0s 4ms/step - loss: 0.3698 - accuracy: 0.8924\n",
      "Epoch 40/40\n",
      "21/21 [==============================] - 0s 7ms/step - loss: 0.3751 - accuracy: 0.9013\n"
     ]
    }
   ],
   "source": [
    "# paramètres\n",
    "NB_EPOCHS = 40\n",
    "LEARNING_RATE = 0.1\n",
    "MOMENTUM = 0.09\n",
    "DECAY = 0.01\n",
    "\n",
    "#  Choix de la tâche à effectuer = choix de la fonction de loss/pertes/coûts à minimise\n",
    "loss_fcn = tf.keras.losses.SparseCategoricalCrossentropy()# sans alias\n",
    "\n",
    "# compilation ...\n",
    "model.compile(loss=loss_fcn, optimizer='ADAM', metrics=['accuracy'])\n",
    "#model.compile(loss='mean_squared_error', optimizer=optimizer, metrics=['mean_asbolute_error', 'mean_squared_error'])\n",
    "\n",
    "#... et entrainement\n",
    "history = model.fit(X_train, y_train, epochs=NB_EPOCHS)"
   ]
  },
  {
   "attachments": {},
   "cell_type": "markdown",
   "metadata": {},
   "source": [
    "## III. Evaluation du modèle"
   ]
  },
  {
   "cell_type": "code",
   "execution_count": 12,
   "metadata": {},
   "outputs": [
    {
     "name": "stdout",
     "output_type": "stream",
     "text": [
      "11/11 [==============================] - 0s 3ms/step\n",
      "\n",
      "\n",
      "Confusion Matrix\n",
      "[[13  0  3  2  1  0  1  0  1  9]\n",
      " [ 0 28  1  0  0  0  1  0  0  0]\n",
      " [ 2  1 19  4  3  0  0  1  1  6]\n",
      " [ 1  1  2 20  2  0  7  3  0  6]\n",
      " [ 0  1  2  2 24  0  0  3  1  3]\n",
      " [ 0 13  3  1  0  8  3  0  0  2]\n",
      " [ 1  0  0  1  1  0 26  0  0  3]\n",
      " [ 0  2  0  2  0  0  0 28  0  0]\n",
      " [ 1  1  6  3 12  0  3  1  6  1]\n",
      " [ 2  2  2  3  0  1  6  0  0 11]]\n",
      "\n",
      "\n",
      "Classification Report\n",
      "              precision    recall  f1-score   support\n",
      "\n",
      "       blues       0.65      0.43      0.52        30\n",
      "   classical       0.57      0.93      0.71        30\n",
      "     country       0.50      0.51      0.51        37\n",
      "       disco       0.53      0.48      0.50        42\n",
      "      hiphop       0.56      0.67      0.61        36\n",
      "        jazz       0.89      0.27      0.41        30\n",
      "       metal       0.55      0.81      0.66        32\n",
      "         pop       0.78      0.88      0.82        32\n",
      "      reggae       0.67      0.18      0.28        34\n",
      "        rock       0.27      0.41      0.32        27\n",
      "\n",
      "    accuracy                           0.55       330\n",
      "   macro avg       0.60      0.56      0.53       330\n",
      "weighted avg       0.60      0.55      0.53       330\n",
      "\n"
     ]
    }
   ],
   "source": [
    "#Confution Matrix and Classification Report\n",
    "Y_pred = model.predict(X_test)\n",
    "y_pred = np.argmax(Y_pred, axis=1)\n",
    "print()\n",
    "print()\n",
    "print('Confusion Matrix')\n",
    "print(confusion_matrix(y_test, y_pred))\n",
    "print()\n",
    "print()\n",
    "print('Classification Report')\n",
    "print(classification_report(labelInd_test, y_pred, target_names=unique_label))"
   ]
  },
  {
   "attachments": {},
   "cell_type": "markdown",
   "metadata": {},
   "source": [
    "## IV. Enregistrement du modèle sous tensorflow-lite"
   ]
  },
  {
   "cell_type": "code",
   "execution_count": 13,
   "metadata": {},
   "outputs": [
    {
     "name": "stderr",
     "output_type": "stream",
     "text": [
      "WARNING:absl:Found untraced functions such as _update_step_xla while saving (showing 1 of 1). These functions will not be directly callable after loading.\n"
     ]
    },
    {
     "name": "stdout",
     "output_type": "stream",
     "text": [
      "INFO:tensorflow:Assets written to: /tmp/tmpxwacl_cp/assets\n"
     ]
    },
    {
     "name": "stderr",
     "output_type": "stream",
     "text": [
      "INFO:tensorflow:Assets written to: /tmp/tmpxwacl_cp/assets\n",
      "2023-01-05 20:34:58.480979: W tensorflow/compiler/mlir/lite/python/tf_tfl_flatbuffer_helpers.cc:362] Ignored output_format.\n",
      "2023-01-05 20:34:58.481083: W tensorflow/compiler/mlir/lite/python/tf_tfl_flatbuffer_helpers.cc:365] Ignored drop_control_dependency.\n",
      "2023-01-05 20:34:58.482560: I tensorflow/cc/saved_model/reader.cc:45] Reading SavedModel from: /tmp/tmpxwacl_cp\n",
      "2023-01-05 20:34:58.484706: I tensorflow/cc/saved_model/reader.cc:89] Reading meta graph with tags { serve }\n",
      "2023-01-05 20:34:58.484809: I tensorflow/cc/saved_model/reader.cc:130] Reading SavedModel debug info (if present) from: /tmp/tmpxwacl_cp\n",
      "2023-01-05 20:34:58.491478: I tensorflow/compiler/mlir/mlir_graph_optimization_pass.cc:357] MLIR V1 optimization pass is not enabled\n",
      "2023-01-05 20:34:58.493049: I tensorflow/cc/saved_model/loader.cc:229] Restoring SavedModel bundle.\n",
      "2023-01-05 20:34:58.570828: I tensorflow/cc/saved_model/loader.cc:213] Running initialization op on SavedModel bundle at path: /tmp/tmpxwacl_cp\n",
      "2023-01-05 20:34:58.584427: I tensorflow/cc/saved_model/loader.cc:305] SavedModel load for tags { serve }; Status: success: OK. Took 101899 microseconds.\n",
      "2023-01-05 20:34:58.607509: I tensorflow/compiler/mlir/tensorflow/utils/dump_mlir_util.cc:268] disabling MLIR crash reproducer, set env var `MLIR_CRASH_REPRODUCER_DIRECTORY` to enable.\n"
     ]
    }
   ],
   "source": [
    "# Convert the model.\n",
    "converter = tf.lite.TFLiteConverter.from_keras_model(model)\n",
    "tflite_model = converter.convert()\n",
    "\n",
    "# Save the model.\n",
    "with open('../../predict/model/model.tflite', 'wb') as f:\n",
    "  f.write(tflite_model)"
   ]
  }
 ],
 "metadata": {
  "kernelspec": {
   "display_name": "vultr-tensorflow",
   "language": "python",
   "name": "python3"
  },
  "language_info": {
   "codemirror_mode": {
    "name": "ipython",
    "version": 3
   },
   "file_extension": ".py",
   "mimetype": "text/x-python",
   "name": "python",
   "nbconvert_exporter": "python",
   "pygments_lexer": "ipython3",
   "version": "3.8.10"
  },
  "orig_nbformat": 4,
  "vscode": {
   "interpreter": {
    "hash": "e7dc7594d92268b386206cffd6139d5884634a15f34fd87543255dfd1480eefc"
   }
  }
 },
 "nbformat": 4,
 "nbformat_minor": 2
}
