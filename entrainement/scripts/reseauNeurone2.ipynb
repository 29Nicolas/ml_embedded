{
 "cells": [
  {
   "attachments": {},
   "cell_type": "markdown",
   "metadata": {},
   "source": [
    "# Reseau de neuronne\n",
    "\n",
    "## Importation des librairies"
   ]
  },
  {
   "cell_type": "code",
   "execution_count": 1,
   "metadata": {},
   "outputs": [
    {
     "name": "stderr",
     "output_type": "stream",
     "text": [
      "2023-01-07 22:08:28.762586: I tensorflow/core/platform/cpu_feature_guard.cc:193] This TensorFlow binary is optimized with oneAPI Deep Neural Network Library (oneDNN) to use the following CPU instructions in performance-critical operations:  AVX2 FMA\n",
      "To enable them in other operations, rebuild TensorFlow with the appropriate compiler flags.\n",
      "2023-01-07 22:08:29.001795: W tensorflow/compiler/xla/stream_executor/platform/default/dso_loader.cc:64] Could not load dynamic library 'libcudart.so.11.0'; dlerror: libcudart.so.11.0: cannot open shared object file: No such file or directory\n",
      "2023-01-07 22:08:29.001822: I tensorflow/compiler/xla/stream_executor/cuda/cudart_stub.cc:29] Ignore above cudart dlerror if you do not have a GPU set up on your machine.\n",
      "2023-01-07 22:08:30.306491: W tensorflow/compiler/xla/stream_executor/platform/default/dso_loader.cc:64] Could not load dynamic library 'libnvinfer.so.7'; dlerror: libnvinfer.so.7: cannot open shared object file: No such file or directory\n",
      "2023-01-07 22:08:30.306615: W tensorflow/compiler/xla/stream_executor/platform/default/dso_loader.cc:64] Could not load dynamic library 'libnvinfer_plugin.so.7'; dlerror: libnvinfer_plugin.so.7: cannot open shared object file: No such file or directory\n",
      "2023-01-07 22:08:30.306625: W tensorflow/compiler/tf2tensorrt/utils/py_utils.cc:38] TF-TRT Warning: Cannot dlopen some TensorRT libraries. If you would like to use Nvidia GPU with TensorRT, please make sure the missing libraries mentioned above are installed properly.\n"
     ]
    }
   ],
   "source": [
    "import numpy as np\n",
    "import matplotlib.pyplot as plt\n",
    "import pandas as pd\n",
    "import tensorflow as tf\n",
    "from sklearn.model_selection import train_test_split\n",
    "from sklearn import preprocessing\n",
    "from tensorflow.keras.models import Sequential\n",
    "from tensorflow import keras\n",
    "from tensorflow.keras.layers import Conv2D, MaxPooling2D, Flatten, Dense, Dropout\n",
    "from sklearn.metrics import confusion_matrix, classification_report"
   ]
  },
  {
   "attachments": {},
   "cell_type": "markdown",
   "metadata": {},
   "source": [
    "## I. Lecture des descripteurs"
   ]
  },
  {
   "cell_type": "code",
   "execution_count": 2,
   "metadata": {},
   "outputs": [],
   "source": [
    "data = pd.read_csv('../../predict/model/output.csv')\n",
    "data = np.array(data.values)\n",
    "label_names = data[:,1024]\n",
    "unique_label = np.unique(label_names)\n",
    "feature_values = data[:, :1024]"
   ]
  },
  {
   "attachments": {},
   "cell_type": "markdown",
   "metadata": {},
   "source": [
    "## II. Réseau de neuronne\n",
    "\n",
    "On commence par séparer les données en deux ensembles: un pour l'apprentissage et l'autre pour l'évaluation du modèle"
   ]
  },
  {
   "cell_type": "code",
   "execution_count": 3,
   "metadata": {},
   "outputs": [],
   "source": [
    "# split données\n",
    "X_train, X_test, y_train, y_test = train_test_split(feature_values, label_names, test_size=0.33, random_state=43)"
   ]
  },
  {
   "attachments": {},
   "cell_type": "markdown",
   "metadata": {},
   "source": [
    "On poursuit en transformant les labels en indice:"
   ]
  },
  {
   "cell_type": "code",
   "execution_count": 4,
   "metadata": {},
   "outputs": [
    {
     "name": "stderr",
     "output_type": "stream",
     "text": [
      "2023-01-07 22:08:32.949838: W tensorflow/compiler/xla/stream_executor/platform/default/dso_loader.cc:64] Could not load dynamic library 'libcuda.so.1'; dlerror: libcuda.so.1: cannot open shared object file: No such file or directory\n",
      "2023-01-07 22:08:32.949897: W tensorflow/compiler/xla/stream_executor/cuda/cuda_driver.cc:265] failed call to cuInit: UNKNOWN ERROR (303)\n",
      "2023-01-07 22:08:32.949943: I tensorflow/compiler/xla/stream_executor/cuda/cuda_diagnostics.cc:156] kernel driver does not appear to be running on this host (nicolas-Lenovo-IdeaPad-C340-14IWL): /proc/driver/nvidia/version does not exist\n",
      "2023-01-07 22:08:32.952757: I tensorflow/core/platform/cpu_feature_guard.cc:193] This TensorFlow binary is optimized with oneAPI Deep Neural Network Library (oneDNN) to use the following CPU instructions in performance-critical operations:  AVX2 FMA\n",
      "To enable them in other operations, rebuild TensorFlow with the appropriate compiler flags.\n"
     ]
    }
   ],
   "source": [
    "# enc labelNames to indices\n",
    "encName2Ind = preprocessing.LabelEncoder()\n",
    "encName2Ind.fit(unique_label)\n",
    "labelIndices_unique = encName2Ind.transform(unique_label)\n",
    "labelIndices  = encName2Ind.transform(label_names)\n",
    "\n",
    "# Conversion des noms des labels en indices\n",
    "labelInd_train = encName2Ind.transform(y_train)\n",
    "labelInd_test = encName2Ind.transform(y_test)\n",
    "\n",
    "X_train = tf.convert_to_tensor(X_train, dtype=tf.float32)\n",
    "X_test = tf.convert_to_tensor(X_test, dtype=tf.float32)\n",
    "y_train = tf.convert_to_tensor(labelInd_train, dtype=tf.float32)\n",
    "y_test = tf.convert_to_tensor(labelInd_test, dtype=tf.float32)"
   ]
  },
  {
   "attachments": {},
   "cell_type": "markdown",
   "metadata": {},
   "source": [
    "On normalise les données pour réduire la complexité et donner le même poids à tous les descripteurs."
   ]
  },
  {
   "cell_type": "code",
   "execution_count": 5,
   "metadata": {},
   "outputs": [
    {
     "name": "stderr",
     "output_type": "stream",
     "text": [
      "/home/nicolas/Documents/3A_ENSTA/ml_embedded/vultr-tensorflow/lib/python3.8/site-packages/numpy/core/_methods.py:239: RuntimeWarning: overflow encountered in multiply\n",
      "  x = um.multiply(x, x, out=x)\n"
     ]
    }
   ],
   "source": [
    "# Normalisation \n",
    "images_mean = np.mean(X_train, axis=0, keepdims=True)\n",
    "images_std = np.std(X_test, axis=0, keepdims=True) + 1e-7\n",
    "X_train = (X_train - images_mean) / images_std\n",
    "X_test = (X_test - images_mean) / images_std"
   ]
  },
  {
   "attachments": {},
   "cell_type": "markdown",
   "metadata": {},
   "source": [
    "On crée ensuite le réseau de neuronne."
   ]
  },
  {
   "cell_type": "code",
   "execution_count": 6,
   "metadata": {},
   "outputs": [
    {
     "name": "stdout",
     "output_type": "stream",
     "text": [
      "Model: \"Sequential_CNN\"\n",
      "_________________________________________________________________\n",
      " Layer (type)                Output Shape              Param #   \n",
      "=================================================================\n",
      " dense (Dense)               (None, 256)               262400    \n",
      "                                                                 \n",
      " dense_1 (Dense)             (None, 10)                2570      \n",
      "                                                                 \n",
      "=================================================================\n",
      "Total params: 264,970\n",
      "Trainable params: 264,970\n",
      "Non-trainable params: 0\n",
      "_________________________________________________________________\n"
     ]
    }
   ],
   "source": [
    "## creation du reseau de neuronne\n",
    "model = Sequential(name=\"Sequential_CNN\")\n",
    "# couche de classification\n",
    "model.add(Dense(256, activation='relu', input_shape = [1024]))\n",
    "model.add(Dense(len(unique_label), activation='softmax'))\n",
    "model.summary()"
   ]
  },
  {
   "attachments": {},
   "cell_type": "markdown",
   "metadata": {},
   "source": [
    "Apprentissage :"
   ]
  },
  {
   "cell_type": "code",
   "execution_count": 7,
   "metadata": {},
   "outputs": [
    {
     "name": "stdout",
     "output_type": "stream",
     "text": [
      "Epoch 1/40\n",
      "21/21 [==============================] - 1s 6ms/step - loss: 1.9886 - accuracy: 0.2915\n",
      "Epoch 2/40\n",
      "21/21 [==============================] - 0s 6ms/step - loss: 1.5344 - accuracy: 0.4649\n",
      "Epoch 3/40\n",
      "21/21 [==============================] - 0s 5ms/step - loss: 1.3527 - accuracy: 0.5157\n",
      "Epoch 4/40\n",
      "21/21 [==============================] - 0s 6ms/step - loss: 1.2178 - accuracy: 0.5994\n",
      "Epoch 5/40\n",
      "21/21 [==============================] - 0s 6ms/step - loss: 1.1355 - accuracy: 0.6263\n",
      "Epoch 6/40\n",
      "21/21 [==============================] - 0s 7ms/step - loss: 1.0550 - accuracy: 0.6726\n",
      "Epoch 7/40\n",
      "21/21 [==============================] - 0s 6ms/step - loss: 1.0109 - accuracy: 0.6726\n",
      "Epoch 8/40\n",
      "21/21 [==============================] - 0s 6ms/step - loss: 0.9185 - accuracy: 0.7309\n",
      "Epoch 9/40\n",
      "21/21 [==============================] - 0s 7ms/step - loss: 0.8664 - accuracy: 0.7309\n",
      "Epoch 10/40\n",
      "21/21 [==============================] - 0s 5ms/step - loss: 0.8373 - accuracy: 0.7399\n",
      "Epoch 11/40\n",
      "21/21 [==============================] - 0s 6ms/step - loss: 0.7834 - accuracy: 0.7788\n",
      "Epoch 12/40\n",
      "21/21 [==============================] - 0s 7ms/step - loss: 0.7356 - accuracy: 0.7848\n",
      "Epoch 13/40\n",
      "21/21 [==============================] - 0s 6ms/step - loss: 0.7046 - accuracy: 0.7907\n",
      "Epoch 14/40\n",
      "21/21 [==============================] - 0s 6ms/step - loss: 0.6909 - accuracy: 0.8027\n",
      "Epoch 15/40\n",
      "21/21 [==============================] - 0s 8ms/step - loss: 0.6735 - accuracy: 0.7997\n",
      "Epoch 16/40\n",
      "21/21 [==============================] - 0s 6ms/step - loss: 0.6491 - accuracy: 0.8012\n",
      "Epoch 17/40\n",
      "21/21 [==============================] - 0s 6ms/step - loss: 0.6200 - accuracy: 0.8281\n",
      "Epoch 18/40\n",
      "21/21 [==============================] - 0s 6ms/step - loss: 0.5872 - accuracy: 0.8221\n",
      "Epoch 19/40\n",
      "21/21 [==============================] - 0s 6ms/step - loss: 0.5718 - accuracy: 0.8341\n",
      "Epoch 20/40\n",
      "21/21 [==============================] - 0s 6ms/step - loss: 0.5453 - accuracy: 0.8430\n",
      "Epoch 21/40\n",
      "21/21 [==============================] - 0s 6ms/step - loss: 0.5415 - accuracy: 0.8460\n",
      "Epoch 22/40\n",
      "21/21 [==============================] - 0s 6ms/step - loss: 0.5203 - accuracy: 0.8580\n",
      "Epoch 23/40\n",
      "21/21 [==============================] - 0s 6ms/step - loss: 0.5099 - accuracy: 0.8565\n",
      "Epoch 24/40\n",
      "21/21 [==============================] - 0s 5ms/step - loss: 0.4901 - accuracy: 0.8490\n",
      "Epoch 25/40\n",
      "21/21 [==============================] - 0s 6ms/step - loss: 0.5397 - accuracy: 0.8191\n",
      "Epoch 26/40\n",
      "21/21 [==============================] - 0s 5ms/step - loss: 0.4726 - accuracy: 0.8625\n",
      "Epoch 27/40\n",
      "21/21 [==============================] - 0s 6ms/step - loss: 0.4734 - accuracy: 0.8759\n",
      "Epoch 28/40\n",
      "21/21 [==============================] - 0s 6ms/step - loss: 0.4651 - accuracy: 0.8655\n",
      "Epoch 29/40\n",
      "21/21 [==============================] - 0s 6ms/step - loss: 0.4460 - accuracy: 0.8640\n",
      "Epoch 30/40\n",
      "21/21 [==============================] - 0s 8ms/step - loss: 0.4386 - accuracy: 0.8789\n",
      "Epoch 31/40\n",
      "21/21 [==============================] - 0s 7ms/step - loss: 0.4214 - accuracy: 0.8879\n",
      "Epoch 32/40\n",
      "21/21 [==============================] - 0s 6ms/step - loss: 0.4189 - accuracy: 0.8729\n",
      "Epoch 33/40\n",
      "21/21 [==============================] - 0s 5ms/step - loss: 0.4128 - accuracy: 0.8834\n",
      "Epoch 34/40\n",
      "21/21 [==============================] - 0s 6ms/step - loss: 0.3826 - accuracy: 0.8849\n",
      "Epoch 35/40\n",
      "21/21 [==============================] - 0s 6ms/step - loss: 0.3679 - accuracy: 0.8999\n",
      "Epoch 36/40\n",
      "21/21 [==============================] - 0s 6ms/step - loss: 0.3633 - accuracy: 0.9013\n",
      "Epoch 37/40\n",
      "21/21 [==============================] - 0s 6ms/step - loss: 0.3612 - accuracy: 0.9088\n",
      "Epoch 38/40\n",
      "21/21 [==============================] - 0s 6ms/step - loss: 0.3477 - accuracy: 0.9043\n",
      "Epoch 39/40\n",
      "21/21 [==============================] - 0s 7ms/step - loss: 0.3630 - accuracy: 0.8924\n",
      "Epoch 40/40\n",
      "21/21 [==============================] - 0s 6ms/step - loss: 0.3778 - accuracy: 0.8879\n"
     ]
    }
   ],
   "source": [
    "# paramètres\n",
    "NB_EPOCHS = 40\n",
    "LEARNING_RATE = 0.1\n",
    "MOMENTUM = 0.09\n",
    "DECAY = 0.01\n",
    "\n",
    "#  Choix de la tâche à effectuer = choix de la fonction de loss/pertes/coûts à minimise\n",
    "loss_fcn = tf.keras.losses.SparseCategoricalCrossentropy()# sans alias\n",
    "\n",
    "# compilation ...\n",
    "model.compile(loss=loss_fcn, optimizer='ADAM', metrics=['accuracy'])\n",
    "#model.compile(loss='mean_squared_error', optimizer=optimizer, metrics=['mean_asbolute_error', 'mean_squared_error'])\n",
    "\n",
    "#... et entrainement\n",
    "history = model.fit(X_train, y_train, epochs=NB_EPOCHS)"
   ]
  },
  {
   "attachments": {},
   "cell_type": "markdown",
   "metadata": {},
   "source": [
    "## III. Evaluation du modèle"
   ]
  },
  {
   "cell_type": "code",
   "execution_count": 13,
   "metadata": {},
   "outputs": [
    {
     "name": "stdout",
     "output_type": "stream",
     "text": [
      "11/11 [==============================] - 0s 4ms/step\n",
      "\n",
      "\n",
      "Confusion Matrix\n",
      "[[15  0  2  1  1  1  1  0  2  7]\n",
      " [ 1 28  0  0  0  1  0  0  0  0]\n",
      " [ 2  1 10  3  3  7  0  0  5  6]\n",
      " [ 2  1  0 21  1  1  5  2  4  5]\n",
      " [ 0  0  0  3 23  0  2  4  3  1]\n",
      " [ 0 11  0  1  0 13  3  0  0  2]\n",
      " [ 1  1  0  0  1  0 27  0  1  1]\n",
      " [ 0  1  0  2  0  1  0 28  0  0]\n",
      " [ 1  1  2  2  4  1  3  2 16  2]\n",
      " [ 1  2  0  4  0  3  5  0  2 10]]\n",
      "\n",
      "\n",
      "Classification Report\n",
      "              precision    recall  f1-score   support\n",
      "\n",
      "       blues       0.65      0.50      0.57        30\n",
      "   classical       0.61      0.93      0.74        30\n",
      "     country       0.71      0.27      0.39        37\n",
      "       disco       0.57      0.50      0.53        42\n",
      "      hiphop       0.70      0.64      0.67        36\n",
      "        jazz       0.46      0.43      0.45        30\n",
      "       metal       0.59      0.84      0.69        32\n",
      "         pop       0.78      0.88      0.82        32\n",
      "      reggae       0.48      0.47      0.48        34\n",
      "        rock       0.29      0.37      0.33        27\n",
      "\n",
      "    accuracy                           0.58       330\n",
      "   macro avg       0.58      0.58      0.57       330\n",
      "weighted avg       0.59      0.58      0.57       330\n",
      "\n"
     ]
    }
   ],
   "source": [
    "#Confution Matrix and Classification Report\n",
    "Y_pred = model.predict(X_test)\n",
    "y_pred = np.argmax(Y_pred, axis=1)\n",
    "print()\n",
    "print()\n",
    "print('Confusion Matrix')\n",
    "print(confusion_matrix(y_test, y_pred))\n",
    "print()\n",
    "print()\n",
    "print('Classification Report')\n",
    "print(classification_report(labelInd_test, y_pred, target_names=unique_label))"
   ]
  },
  {
   "attachments": {},
   "cell_type": "markdown",
   "metadata": {},
   "source": [
    "## IV. Enregistrement du modèle sous tensorflow-lite"
   ]
  },
  {
   "cell_type": "code",
   "execution_count": 9,
   "metadata": {},
   "outputs": [
    {
     "name": "stderr",
     "output_type": "stream",
     "text": [
      "WARNING:absl:Found untraced functions such as _update_step_xla while saving (showing 1 of 1). These functions will not be directly callable after loading.\n"
     ]
    },
    {
     "name": "stdout",
     "output_type": "stream",
     "text": [
      "INFO:tensorflow:Assets written to: /tmp/tmpaznyumee/assets\n"
     ]
    },
    {
     "name": "stderr",
     "output_type": "stream",
     "text": [
      "INFO:tensorflow:Assets written to: /tmp/tmpaznyumee/assets\n",
      "2023-01-07 22:08:41.460578: W tensorflow/compiler/mlir/lite/python/tf_tfl_flatbuffer_helpers.cc:362] Ignored output_format.\n",
      "2023-01-07 22:08:41.460609: W tensorflow/compiler/mlir/lite/python/tf_tfl_flatbuffer_helpers.cc:365] Ignored drop_control_dependency.\n",
      "2023-01-07 22:08:41.461252: I tensorflow/cc/saved_model/reader.cc:45] Reading SavedModel from: /tmp/tmpaznyumee\n",
      "2023-01-07 22:08:41.462234: I tensorflow/cc/saved_model/reader.cc:89] Reading meta graph with tags { serve }\n",
      "2023-01-07 22:08:41.462252: I tensorflow/cc/saved_model/reader.cc:130] Reading SavedModel debug info (if present) from: /tmp/tmpaznyumee\n",
      "2023-01-07 22:08:41.465870: I tensorflow/compiler/mlir/mlir_graph_optimization_pass.cc:357] MLIR V1 optimization pass is not enabled\n",
      "2023-01-07 22:08:41.467475: I tensorflow/cc/saved_model/loader.cc:229] Restoring SavedModel bundle.\n",
      "2023-01-07 22:08:41.514596: I tensorflow/cc/saved_model/loader.cc:213] Running initialization op on SavedModel bundle at path: /tmp/tmpaznyumee\n",
      "2023-01-07 22:08:41.529390: I tensorflow/cc/saved_model/loader.cc:305] SavedModel load for tags { serve }; Status: success: OK. Took 68141 microseconds.\n",
      "2023-01-07 22:08:41.560742: I tensorflow/compiler/mlir/tensorflow/utils/dump_mlir_util.cc:268] disabling MLIR crash reproducer, set env var `MLIR_CRASH_REPRODUCER_DIRECTORY` to enable.\n"
     ]
    }
   ],
   "source": [
    "# Convert the model.\n",
    "converter = tf.lite.TFLiteConverter.from_keras_model(model)\n",
    "tflite_model = converter.convert()\n",
    "\n",
    "# Save the model.\n",
    "with open('../../predict/model/model.tflite', 'wb') as f:\n",
    "  f.write(tflite_model)"
   ]
  },
  {
   "attachments": {},
   "cell_type": "markdown",
   "metadata": {},
   "source": [
    "enregistrement des données d'évaluation"
   ]
  },
  {
   "cell_type": "code",
   "execution_count": 40,
   "metadata": {},
   "outputs": [
    {
     "name": "stdout",
     "output_type": "stream",
     "text": [
      "11/11 [==============================] - 0s 3ms/step - loss: 2.2261 - accuracy: 0.5788\n"
     ]
    }
   ],
   "source": [
    "txt = \"\"\n",
    "txt += \"#ifndef TEST_DATASET_H\\n#define TEST_DATASET_H\\n\\n\"\n",
    "txt += \"#define N_TEST_EXAMPLES \" + str(len(X_test)) + \"\\n\"\n",
    "txt += \"#define N_FEATURES \" + str(len(y_test)) + \"\\n\"\n",
    "txt += \"#define N_CLASSES 10\\n\\n\"\n",
    "\n",
    "txt += \"float test_acc=\" + str(model.evaluate(X_test, y_test)[1]) +\";\\n\\n\"\n",
    "\n",
    "txt += \"float X_test[N_TEST_EXAMPLES][N_FEATURES] = {\\n\"\n",
    "for i in range(len(X_test)-1):\n",
    "    # print(X_test[i].numpy())\n",
    "    txt += \"{\"\n",
    "    for j in range(len(y_test)-1):\n",
    "        txt += str(X_test[i,j].numpy()) +\",\"\n",
    "    txt += str(X_test[i,len(y_test)-1].numpy()) + \"},\\n\"\n",
    "txt += \"{\"\n",
    "for j in range(len(y_test)-1):\n",
    "    txt += str(X_test[len(X_test)-1,j].numpy()) +\",\"\n",
    "txt += str(X_test[len(X_test)-1,len(y_test)-1].numpy()) + \"}};\\n\\n\"\n",
    "\n",
    "txt += \"int y_test[N_FEATURES]={\"\n",
    "for i in range(len(y_test)-1):\n",
    "    txt += str(y_test[i].numpy()) +\",\"\n",
    "txt += str(y_test[len(y_test)-1].numpy()) +\"};\\n\\n\"\n",
    "\n",
    "txt += \"#endif\"\n",
    "\n",
    "# écriture du code dans le fichier\n",
    "fichier = open(\"../../predict/model/test_dataset.h\", \"w\")\n",
    "fichier.write(txt)\n",
    "fichier.close()"
   ]
  }
 ],
 "metadata": {
  "kernelspec": {
   "display_name": "vultr-tensorflow",
   "language": "python",
   "name": "python3"
  },
  "language_info": {
   "codemirror_mode": {
    "name": "ipython",
    "version": 3
   },
   "file_extension": ".py",
   "mimetype": "text/x-python",
   "name": "python",
   "nbconvert_exporter": "python",
   "pygments_lexer": "ipython3",
   "version": "3.8.10 (default, Nov 14 2022, 12:59:47) \n[GCC 9.4.0]"
  },
  "orig_nbformat": 4,
  "vscode": {
   "interpreter": {
    "hash": "e7dc7594d92268b386206cffd6139d5884634a15f34fd87543255dfd1480eefc"
   }
  }
 },
 "nbformat": 4,
 "nbformat_minor": 2
}
