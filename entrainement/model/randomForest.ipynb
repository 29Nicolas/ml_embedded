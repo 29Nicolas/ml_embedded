{
 "cells": [
  {
   "attachments": {},
   "cell_type": "markdown",
   "metadata": {},
   "source": [
    "# Random Forest\n",
    "## I. Importation des librairies"
   ]
  },
  {
   "cell_type": "code",
   "execution_count": 14,
   "metadata": {},
   "outputs": [],
   "source": [
    "import csv\n",
    "import numpy as np\n",
    "from sklearn import preprocessing\n",
    "from usefulCmdsAndFcns import get_metrics, plot_confusion_matrix\n",
    "from sklearn.model_selection import train_test_split, cross_val_score\n",
    "from sklearn.pipeline import make_pipeline\n",
    "from sklearn.ensemble import RandomForestClassifier"
   ]
  },
  {
   "attachments": {},
   "cell_type": "markdown",
   "metadata": {},
   "source": [
    "# "
   ]
  },
  {
   "attachments": {},
   "cell_type": "markdown",
   "metadata": {},
   "source": [
    "## II. Lecture des descripteurs"
   ]
  },
  {
   "cell_type": "code",
   "execution_count": 15,
   "metadata": {},
   "outputs": [],
   "source": [
    "# extraction des informations du csv\n",
    "with open('../../inference/dataset.csv', newline='') as csvfile:\n",
    "    data = list(csv.reader(csvfile))\n",
    "data = np.array(data)\n",
    "\n",
    "label_names = data[:,1024]\n",
    "unique_label = np.unique(label_names)\n",
    "feature_values = data[:, :1024]"
   ]
  },
  {
   "attachments": {},
   "cell_type": "markdown",
   "metadata": {},
   "source": [
    "## III. Modèle Random Forest"
   ]
  },
  {
   "cell_type": "code",
   "execution_count": 16,
   "metadata": {},
   "outputs": [
    {
     "data": {
      "text/html": [
       "<style>#sk-container-id-4 {color: black;background-color: white;}#sk-container-id-4 pre{padding: 0;}#sk-container-id-4 div.sk-toggleable {background-color: white;}#sk-container-id-4 label.sk-toggleable__label {cursor: pointer;display: block;width: 100%;margin-bottom: 0;padding: 0.3em;box-sizing: border-box;text-align: center;}#sk-container-id-4 label.sk-toggleable__label-arrow:before {content: \"▸\";float: left;margin-right: 0.25em;color: #696969;}#sk-container-id-4 label.sk-toggleable__label-arrow:hover:before {color: black;}#sk-container-id-4 div.sk-estimator:hover label.sk-toggleable__label-arrow:before {color: black;}#sk-container-id-4 div.sk-toggleable__content {max-height: 0;max-width: 0;overflow: hidden;text-align: left;background-color: #f0f8ff;}#sk-container-id-4 div.sk-toggleable__content pre {margin: 0.2em;color: black;border-radius: 0.25em;background-color: #f0f8ff;}#sk-container-id-4 input.sk-toggleable__control:checked~div.sk-toggleable__content {max-height: 200px;max-width: 100%;overflow: auto;}#sk-container-id-4 input.sk-toggleable__control:checked~label.sk-toggleable__label-arrow:before {content: \"▾\";}#sk-container-id-4 div.sk-estimator input.sk-toggleable__control:checked~label.sk-toggleable__label {background-color: #d4ebff;}#sk-container-id-4 div.sk-label input.sk-toggleable__control:checked~label.sk-toggleable__label {background-color: #d4ebff;}#sk-container-id-4 input.sk-hidden--visually {border: 0;clip: rect(1px 1px 1px 1px);clip: rect(1px, 1px, 1px, 1px);height: 1px;margin: -1px;overflow: hidden;padding: 0;position: absolute;width: 1px;}#sk-container-id-4 div.sk-estimator {font-family: monospace;background-color: #f0f8ff;border: 1px dotted black;border-radius: 0.25em;box-sizing: border-box;margin-bottom: 0.5em;}#sk-container-id-4 div.sk-estimator:hover {background-color: #d4ebff;}#sk-container-id-4 div.sk-parallel-item::after {content: \"\";width: 100%;border-bottom: 1px solid gray;flex-grow: 1;}#sk-container-id-4 div.sk-label:hover label.sk-toggleable__label {background-color: #d4ebff;}#sk-container-id-4 div.sk-serial::before {content: \"\";position: absolute;border-left: 1px solid gray;box-sizing: border-box;top: 0;bottom: 0;left: 50%;z-index: 0;}#sk-container-id-4 div.sk-serial {display: flex;flex-direction: column;align-items: center;background-color: white;padding-right: 0.2em;padding-left: 0.2em;position: relative;}#sk-container-id-4 div.sk-item {position: relative;z-index: 1;}#sk-container-id-4 div.sk-parallel {display: flex;align-items: stretch;justify-content: center;background-color: white;position: relative;}#sk-container-id-4 div.sk-item::before, #sk-container-id-4 div.sk-parallel-item::before {content: \"\";position: absolute;border-left: 1px solid gray;box-sizing: border-box;top: 0;bottom: 0;left: 50%;z-index: -1;}#sk-container-id-4 div.sk-parallel-item {display: flex;flex-direction: column;z-index: 1;position: relative;background-color: white;}#sk-container-id-4 div.sk-parallel-item:first-child::after {align-self: flex-end;width: 50%;}#sk-container-id-4 div.sk-parallel-item:last-child::after {align-self: flex-start;width: 50%;}#sk-container-id-4 div.sk-parallel-item:only-child::after {width: 0;}#sk-container-id-4 div.sk-dashed-wrapped {border: 1px dashed gray;margin: 0 0.4em 0.5em 0.4em;box-sizing: border-box;padding-bottom: 0.4em;background-color: white;}#sk-container-id-4 div.sk-label label {font-family: monospace;font-weight: bold;display: inline-block;line-height: 1.2em;}#sk-container-id-4 div.sk-label-container {text-align: center;}#sk-container-id-4 div.sk-container {/* jupyter's `normalize.less` sets `[hidden] { display: none; }` but bootstrap.min.css set `[hidden] { display: none !important; }` so we also need the `!important` here to be able to override the default hidden behavior on the sphinx rendered scikit-learn.org. See: https://github.com/scikit-learn/scikit-learn/issues/21755 */display: inline-block !important;position: relative;}#sk-container-id-4 div.sk-text-repr-fallback {display: none;}</style><div id=\"sk-container-id-4\" class=\"sk-top-container\"><div class=\"sk-text-repr-fallback\"><pre>Pipeline(steps=[(&#x27;standardscaler&#x27;, StandardScaler()),\n",
       "                (&#x27;randomforestclassifier&#x27;, RandomForestClassifier())])</pre><b>In a Jupyter environment, please rerun this cell to show the HTML representation or trust the notebook. <br />On GitHub, the HTML representation is unable to render, please try loading this page with nbviewer.org.</b></div><div class=\"sk-container\" hidden><div class=\"sk-item sk-dashed-wrapped\"><div class=\"sk-label-container\"><div class=\"sk-label sk-toggleable\"><input class=\"sk-toggleable__control sk-hidden--visually\" id=\"sk-estimator-id-10\" type=\"checkbox\" ><label for=\"sk-estimator-id-10\" class=\"sk-toggleable__label sk-toggleable__label-arrow\">Pipeline</label><div class=\"sk-toggleable__content\"><pre>Pipeline(steps=[(&#x27;standardscaler&#x27;, StandardScaler()),\n",
       "                (&#x27;randomforestclassifier&#x27;, RandomForestClassifier())])</pre></div></div></div><div class=\"sk-serial\"><div class=\"sk-item\"><div class=\"sk-estimator sk-toggleable\"><input class=\"sk-toggleable__control sk-hidden--visually\" id=\"sk-estimator-id-11\" type=\"checkbox\" ><label for=\"sk-estimator-id-11\" class=\"sk-toggleable__label sk-toggleable__label-arrow\">StandardScaler</label><div class=\"sk-toggleable__content\"><pre>StandardScaler()</pre></div></div></div><div class=\"sk-item\"><div class=\"sk-estimator sk-toggleable\"><input class=\"sk-toggleable__control sk-hidden--visually\" id=\"sk-estimator-id-12\" type=\"checkbox\" ><label for=\"sk-estimator-id-12\" class=\"sk-toggleable__label sk-toggleable__label-arrow\">RandomForestClassifier</label><div class=\"sk-toggleable__content\"><pre>RandomForestClassifier()</pre></div></div></div></div></div></div></div>"
      ],
      "text/plain": [
       "Pipeline(steps=[('standardscaler', StandardScaler()),\n",
       "                ('randomforestclassifier', RandomForestClassifier())])"
      ]
     },
     "execution_count": 16,
     "metadata": {},
     "output_type": "execute_result"
    }
   ],
   "source": [
    "# split données\n",
    "X_train, X_test, y_train, y_test = train_test_split(feature_values, label_names, test_size=0.33, random_state=43)\n",
    "\n",
    "\n",
    "# Random Forest\n",
    "RandomForest_ml = make_pipeline(preprocessing.StandardScaler(), RandomForestClassifier(n_estimators=100))\n",
    "RandomForest_ml.fit(X_train, y_train)"
   ]
  },
  {
   "attachments": {},
   "cell_type": "markdown",
   "metadata": {},
   "source": [
    "## IV. Evaluation\n",
    "Pour évaluer le modèle, on affichage la matrice de confusion et les différents scores."
   ]
  },
  {
   "cell_type": "code",
   "execution_count": 17,
   "metadata": {},
   "outputs": [
    {
     "name": "stdout",
     "output_type": "stream",
     "text": [
      "Confusion matrix, without normalization\n",
      "[[17  0  1  0  0  2  5  0  4  2]\n",
      " [ 0 21  3  0  0  4  0  0  1  1]\n",
      " [ 3  0  6  0  3  9  0  0  8  4]\n",
      " [ 0  0  1 14 11  0  8  5  2  9]\n",
      " [ 0  0  2  2 18  1  5  2  3  2]\n",
      " [ 0  6  0  1  2 18  1  0  1  2]\n",
      " [ 3  0  0  0  0  0 27  0  0  3]\n",
      " [ 0  0  0  2  3  1  0 21  0  0]\n",
      " [ 2  0  4  1  3  1  2  2 16  2]\n",
      " [ 2  0  4  2  1  0  6  1  2  9]]\n",
      "Accuracy: 0.5061\n",
      "Precision: 0.5187\n",
      "Recall: 0.5061\n",
      "F1 Score: 0.4951\n",
      "Scores RandomForest:  0.47575757575757577\n"
     ]
    },
    {
     "data": {
      "image/png": "[encoded data removed]",
      "text/plain": [
       "<Figure size 640x480 with 2 Axes>"
      ]
     },
     "metadata": {},
     "output_type": "display_data"
    }
   ],
   "source": [
    "# evaluation du modele\n",
    "plot_confusion_matrix(y_test,RandomForest_ml.predict(X_test))\n",
    "get_metrics(y_test,RandomForest_ml.predict(X_test))\n",
    "scores = cross_val_score(RandomForest_ml, X_test, y_test)\n",
    "print(\"Scores RandomForest: \",scores.mean())\n",
    "accuracy = RandomForest_ml.score(X_test, y_test)"
   ]
  },
  {
   "attachments": {},
   "cell_type": "markdown",
   "metadata": {},
   "source": [
    "Les performances sont correcte."
   ]
  },
  {
   "attachments": {},
   "cell_type": "markdown",
   "metadata": {},
   "source": [
    "## V. Enregistrement"
   ]
  },
  {
   "attachments": {},
   "cell_type": "markdown",
   "metadata": {},
   "source": [
    "Enregistrement de la normalisation"
   ]
  },
  {
   "cell_type": "code",
   "execution_count": 18,
   "metadata": {},
   "outputs": [],
   "source": [
    "with open('../../inference/RandomForest/modelRandomForest.csv', 'w', encoding='UTF8') as f:\n",
    "    # create the csv writer\n",
    "    writer = csv.writer(f)\n",
    "    # write a row to the csv file\n",
    "    writer.writerow(RandomForest_ml['standardscaler'].scale_)\n",
    "    writer.writerow(RandomForest_ml['standardscaler'].mean_)"
   ]
  },
  {
   "attachments": {},
   "cell_type": "markdown",
   "metadata": {},
   "source": [
    "On utilise la même fonction que pour le modèle d'arbre de décision. En effet, la forêt est composée de plusieurs arbres. On doit donc juste traiter tous les arbres de la forêt pour obtenir le modèle."
   ]
  },
  {
   "cell_type": "code",
   "execution_count": 19,
   "metadata": {},
   "outputs": [],
   "source": [
    "def lecture_node(i):\n",
    "    '''\n",
    "    fonction permettant de parcourir l'arbre de décision de manière récursif et écrivant le code cpp permettant la décision\n",
    "    prend en entrée le node i courant traité\n",
    "    sort le texte correspondant au morceau de code de ses enfants\n",
    "    '''\n",
    "    if(clf.tree_.children_left[i] == clf.tree_.children_right[i]):\n",
    "        # condition d'arret : le node est une feuille de l'arbre\n",
    "        # \"cout << \\\"\" + unique_label[np.argmax(clf.tree_.value[i])] + \"\\\" << endl;\n",
    "        return \"return \" + str(np.argmax(clf.tree_.value[i])) + \";\"\n",
    "    else:\n",
    "        # sinon on traite les enfants\n",
    "        txt_1 = lecture_node(clf.tree_.children_left[i])\n",
    "        txt_2 = lecture_node(clf.tree_.children_right[i])\n",
    "        if(clf.tree_.feature[i] <512):\n",
    "            feature = \"mu[\"+str(clf.tree_.feature[i]) + \"]\"\n",
    "        else:\n",
    "            feature = \"sigma[\" + str(clf.tree_.feature[i]-512) + \"]\"\n",
    "        Text_1 = \"if(\"+ feature + \" <= \" + str(clf.tree_.threshold[i]) + \"){\" + txt_1 + \"}\"\n",
    "        Text_2 = \"else{\" + txt_2 + \"}\"\n",
    "        return Text_1 + Text_2"
   ]
  },
  {
   "attachments": {},
   "cell_type": "markdown",
   "metadata": {},
   "source": [
    "On peut écrire le code cpp et h en parcourant tous les arbres."
   ]
  },
  {
   "cell_type": "code",
   "execution_count": 20,
   "metadata": {},
   "outputs": [],
   "source": [
    "nb_arbre = 100\n",
    "\n",
    "## génération du code cpp\n",
    "txt = \"\"\n",
    "txt += \"#include <iostream>  \\n\"\n",
    "txt += \"#include \\\"codeRandomForest.h\\\" \\n\"\n",
    "txt += \"using namespace std; \\n \\n\"\n",
    "\n",
    "##fonction de decision arbre\n",
    "for i in range(nb_arbre):\n",
    "    txt += \"int decision_tree_\" + str(i) + \"(double mu[], double sigma[]){\\n\"\n",
    "    clf = RandomForest_ml['randomforestclassifier'].estimators_[i]\n",
    "    txt += lecture_node(0)\n",
    "    txt += \"}\\n\"\n",
    "txt += \"\\n\"\n",
    "\n",
    "##Fonction max\n",
    "txt += \"int maxTableau(double tableau[10]){\\n\"\n",
    "txt += \"double max = tableau[0];\\n\"\n",
    "txt += \"int index_max = 0;\\n\"\n",
    "txt += \"for(int i=0;i<10;i++){\"\n",
    "txt += \"if(max<tableau[i]){\"\n",
    "txt += \"index_max = i;\"\n",
    "txt +=\"max = tableau[i];\"\n",
    "txt += \"}}return index_max;}\\n\"\n",
    "txt +=\"\\n\"\n",
    "\n",
    "##Fonction affichage resultat genre musical\n",
    "txt += \"void affichageResultat(int indexMaxGenres){\\n\"\n",
    "txt += \"switch(indexMaxGenres){\"\n",
    "for i in range(len(RandomForest_ml['randomforestclassifier'].classes_)):\n",
    "    txt += \"case \" + str(i) +\" :\\n\"\n",
    "    txt += \"cout << \\\"\" + RandomForest_ml['randomforestclassifier'].classes_[i] + \"\\\" << endl;break;\\n\"\n",
    "txt += \"}}\\n \\n\"\n",
    "\n",
    "##Fonction Forest\n",
    "txt += \"int randomForest(double mu[], double sigma[]){\\n\"\n",
    "txt += \"double genres[10] = {0};\\n\"\n",
    "for i in range(nb_arbre):\n",
    "    txt += \"genres[decision_tree_\" + str(i) + \"(mu, sigma)]++;\\n\";\n",
    "\n",
    "txt += \"int indexMaxGenres = maxTableau(genres);\\n\"\n",
    "txt += \"affichageResultat(indexMaxGenres);\"\n",
    "txt += \"return indexMaxGenres;\\n\"\n",
    "txt += \"}\"\n",
    "\n",
    "# écriture du code dans le fichier\n",
    "fichier = open(\"../../inference/RandomForest/codeRandomForest.cpp\", \"w\")\n",
    "fichier.write(txt)\n",
    "fichier.close()\n",
    "\n",
    "## ecriture du h\n",
    "txt = \"#ifndef CODE_RANDOM_FOREST__H \\n#define CODE_RANDOM_FOREST__H \\n\"\n",
    "for i in range(nb_arbre):\n",
    "    txt += \"int decision_tree_\" + str(i) + \"(double mu[], double sigma[]);\\n\"\n",
    "txt += \"int maxTableau(double tableau[10]);\\n\"\n",
    "txt += \"void affichageResultat(int indexMaxGenres);\\n\"\n",
    "txt += \"int randomForest(double mu[], double sigma[]);\\n\"\n",
    "txt += \"#endif\"\n",
    "fichier = open(\"../../inference/RandomForest/codeRandomForest.h\", \"w\")\n",
    "fichier.write(txt)\n",
    "fichier.close()\n"
   ]
  },
  {
   "attachments": {},
   "cell_type": "markdown",
   "metadata": {},
   "source": [
    "Codage des labels en indice"
   ]
  },
  {
   "cell_type": "code",
   "execution_count": 21,
   "metadata": {},
   "outputs": [],
   "source": [
    "unique_label = np.unique(label_names)\n",
    "\n",
    "# enc labelNames to indices\n",
    "encName2Ind = preprocessing.LabelEncoder()\n",
    "encName2Ind.fit(unique_label)\n",
    "labelIndices_unique = encName2Ind.transform(unique_label)\n",
    "labelIndices  = encName2Ind.transform(label_names)\n",
    "\n",
    "# Conversion des noms des labels en indices\n",
    "y_test = encName2Ind.transform(y_test)"
   ]
  },
  {
   "attachments": {},
   "cell_type": "markdown",
   "metadata": {},
   "source": [
    "Enregistrement de l'ensemble d'évaluation"
   ]
  },
  {
   "cell_type": "code",
   "execution_count": 22,
   "metadata": {},
   "outputs": [],
   "source": [
    "txt = \"\"\n",
    "txt += \"#ifndef TEST_DATASET_H\\n#define TEST_DATASET_H\\n\\n\"\n",
    "txt += \"#define N_TEST_EXAMPLES \" + str(X_test.shape[0]) + \"\\n\"\n",
    "txt += \"#define N_FEATURES \" + str(X_test.shape[1]) + \"\\n\"\n",
    "txt += \"#define N_CLASSES 10\\n\\n\"\n",
    "\n",
    "txt += \"float test_acc=\" + str(accuracy) +\";\\n\\n\"\n",
    "\n",
    "txt += \"float X_test[N_TEST_EXAMPLES][N_FEATURES] = {\\n\"\n",
    "for i in range(X_test.shape[0]-1):\n",
    "    txt += \"{\"\n",
    "    for j in range(X_test.shape[1]-1):\n",
    "        txt += str(X_test[i,j]) +\",\"\n",
    "    txt += str(X_test[i,X_test.shape[1]-1]) + \"},\\n\"\n",
    "txt += \"{\"\n",
    "for j in range(X_test.shape[1]-1):\n",
    "    txt += str(X_test[X_test.shape[0]-1,j]) +\",\"\n",
    "txt += str(X_test[X_test.shape[0]-1,X_test.shape[1]-1]) + \"}};\\n\\n\"\n",
    "\n",
    "txt += \"int y_test[N_FEATURES]={\"\n",
    "for i in range(X_test.shape[0]-1):\n",
    "    txt += str(y_test[i]) +\",\"\n",
    "txt += str(y_test[X_test.shape[0]-1]) +\"};\\n\\n\"\n",
    "\n",
    "txt += \"#endif\"\n",
    "\n",
    "# écriture du code dans le fichier\n",
    "fichier = open(\"../../inference/RandomForest/test_dataset.h\", \"w\")\n",
    "fichier.write(txt)\n",
    "fichier.close()"
   ]
  }
 ],
 "metadata": {
  "kernelspec": {
   "display_name": "vultr-tensorflow",
   "language": "python",
   "name": "python3"
  },
  "language_info": {
   "codemirror_mode": {
    "name": "ipython",
    "version": 3
   },
   "file_extension": ".py",
   "mimetype": "text/x-python",
   "name": "python",
   "nbconvert_exporter": "python",
   "pygments_lexer": "ipython3",
   "version": "3.8.10"
  },
  "orig_nbformat": 4,
  "vscode": {
   "interpreter": {
    "hash": "e7dc7594d92268b386206cffd6139d5884634a15f34fd87543255dfd1480eefc"
   }
  }
 },
 "nbformat": 4,
 "nbformat_minor": 2
}
