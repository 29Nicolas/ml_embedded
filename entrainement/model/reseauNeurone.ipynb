{
 "cells": [
  {
   "attachments": {},
   "cell_type": "markdown",
   "metadata": {},
   "source": [
    "# Reseau de neuronne\n",
    "\n",
    "## Importation des librairies"
   ]
  },
  {
   "cell_type": "code",
   "execution_count": 1,
   "metadata": {},
   "outputs": [
    {
     "name": "stderr",
     "output_type": "stream",
     "text": [
      "2023-01-19 20:17:32.670567: I tensorflow/core/platform/cpu_feature_guard.cc:193] This TensorFlow binary is optimized with oneAPI Deep Neural Network Library (oneDNN) to use the following CPU instructions in performance-critical operations:  AVX2 FMA\n",
      "To enable them in other operations, rebuild TensorFlow with the appropriate compiler flags.\n",
      "2023-01-19 20:17:32.941290: W tensorflow/compiler/xla/stream_executor/platform/default/dso_loader.cc:64] Could not load dynamic library 'libcudart.so.11.0'; dlerror: libcudart.so.11.0: cannot open shared object file: No such file or directory; LD_LIBRARY_PATH: /usr/lib/x86_64-linux-gnu/gazebo-11/plugins:/opt/ros/foxy/opt/yaml_cpp_vendor/lib:/opt/ros/foxy/opt/rviz_ogre_vendor/lib:/opt/ros/foxy/lib/x86_64-linux-gnu:/opt/ros/foxy/lib\n",
      "2023-01-19 20:17:32.941348: I tensorflow/compiler/xla/stream_executor/cuda/cudart_stub.cc:29] Ignore above cudart dlerror if you do not have a GPU set up on your machine.\n",
      "2023-01-19 20:17:34.660975: W tensorflow/compiler/xla/stream_executor/platform/default/dso_loader.cc:64] Could not load dynamic library 'libnvinfer.so.7'; dlerror: libnvinfer.so.7: cannot open shared object file: No such file or directory; LD_LIBRARY_PATH: /usr/lib/x86_64-linux-gnu/gazebo-11/plugins:/opt/ros/foxy/opt/yaml_cpp_vendor/lib:/opt/ros/foxy/opt/rviz_ogre_vendor/lib:/opt/ros/foxy/lib/x86_64-linux-gnu:/opt/ros/foxy/lib\n",
      "2023-01-19 20:17:34.661199: W tensorflow/compiler/xla/stream_executor/platform/default/dso_loader.cc:64] Could not load dynamic library 'libnvinfer_plugin.so.7'; dlerror: libnvinfer_plugin.so.7: cannot open shared object file: No such file or directory; LD_LIBRARY_PATH: /usr/lib/x86_64-linux-gnu/gazebo-11/plugins:/opt/ros/foxy/opt/yaml_cpp_vendor/lib:/opt/ros/foxy/opt/rviz_ogre_vendor/lib:/opt/ros/foxy/lib/x86_64-linux-gnu:/opt/ros/foxy/lib\n",
      "2023-01-19 20:17:34.661220: W tensorflow/compiler/tf2tensorrt/utils/py_utils.cc:38] TF-TRT Warning: Cannot dlopen some TensorRT libraries. If you would like to use Nvidia GPU with TensorRT, please make sure the missing libraries mentioned above are installed properly.\n"
     ]
    }
   ],
   "source": [
    "import numpy as np\n",
    "import matplotlib.pyplot as plt\n",
    "import pandas as pd\n",
    "import tensorflow as tf\n",
    "from sklearn.model_selection import train_test_split\n",
    "from sklearn import preprocessing\n",
    "from tensorflow.keras.models import Sequential\n",
    "from tensorflow import keras\n",
    "from tensorflow.keras.layers import Conv2D, MaxPooling2D, Flatten, Dense, Dropout\n",
    "from sklearn.metrics import confusion_matrix, classification_report"
   ]
  },
  {
   "attachments": {},
   "cell_type": "markdown",
   "metadata": {},
   "source": [
    "## I. Lecture des descripteurs"
   ]
  },
  {
   "cell_type": "code",
   "execution_count": 2,
   "metadata": {},
   "outputs": [],
   "source": [
    "data = pd.read_csv('../../inference/dataset.csv')\n",
    "data = np.array(data.values)\n",
    "label_names = data[:,1024]\n",
    "unique_label = np.unique(label_names)\n",
    "feature_values = data[:, :1024]"
   ]
  },
  {
   "attachments": {},
   "cell_type": "markdown",
   "metadata": {},
   "source": [
    "## II. Réseau de neuronne\n",
    "\n",
    "On commence par séparer les données en deux ensembles: un pour l'apprentissage et l'autre pour l'évaluation du modèle"
   ]
  },
  {
   "cell_type": "code",
   "execution_count": 3,
   "metadata": {},
   "outputs": [],
   "source": [
    "# split données\n",
    "X_train, X_test, y_train, y_test = train_test_split(feature_values, label_names, test_size=0.33, random_state=43)"
   ]
  },
  {
   "attachments": {},
   "cell_type": "markdown",
   "metadata": {},
   "source": [
    "On poursuit en transformant les labels en indice:"
   ]
  },
  {
   "cell_type": "code",
   "execution_count": 4,
   "metadata": {},
   "outputs": [
    {
     "name": "stderr",
     "output_type": "stream",
     "text": [
      "2023-01-19 20:17:38.230246: W tensorflow/compiler/xla/stream_executor/platform/default/dso_loader.cc:64] Could not load dynamic library 'libcuda.so.1'; dlerror: libcuda.so.1: cannot open shared object file: No such file or directory; LD_LIBRARY_PATH: /usr/lib/x86_64-linux-gnu/gazebo-11/plugins:/opt/ros/foxy/opt/yaml_cpp_vendor/lib:/opt/ros/foxy/opt/rviz_ogre_vendor/lib:/opt/ros/foxy/lib/x86_64-linux-gnu:/opt/ros/foxy/lib\n",
      "2023-01-19 20:17:38.230300: W tensorflow/compiler/xla/stream_executor/cuda/cuda_driver.cc:265] failed call to cuInit: UNKNOWN ERROR (303)\n",
      "2023-01-19 20:17:38.230352: I tensorflow/compiler/xla/stream_executor/cuda/cuda_diagnostics.cc:156] kernel driver does not appear to be running on this host (nicolas-Lenovo-IdeaPad-C340-14IWL): /proc/driver/nvidia/version does not exist\n",
      "2023-01-19 20:17:38.231090: I tensorflow/core/platform/cpu_feature_guard.cc:193] This TensorFlow binary is optimized with oneAPI Deep Neural Network Library (oneDNN) to use the following CPU instructions in performance-critical operations:  AVX2 FMA\n",
      "To enable them in other operations, rebuild TensorFlow with the appropriate compiler flags.\n"
     ]
    }
   ],
   "source": [
    "# enc labelNames to indices\n",
    "encName2Ind = preprocessing.LabelEncoder()\n",
    "encName2Ind.fit(unique_label)\n",
    "labelIndices_unique = encName2Ind.transform(unique_label)\n",
    "labelIndices  = encName2Ind.transform(label_names)\n",
    "\n",
    "# Conversion des noms des labels en indices\n",
    "labelInd_train = encName2Ind.transform(y_train)\n",
    "labelInd_test = encName2Ind.transform(y_test)\n",
    "\n",
    "X_train = tf.convert_to_tensor(X_train, dtype=tf.float32)\n",
    "X_test = tf.convert_to_tensor(X_test, dtype=tf.float32)\n",
    "y_train = tf.convert_to_tensor(labelInd_train, dtype=tf.float32)\n",
    "y_test = tf.convert_to_tensor(labelInd_test, dtype=tf.float32)"
   ]
  },
  {
   "attachments": {},
   "cell_type": "markdown",
   "metadata": {},
   "source": [
    "On normalise les données pour réduire la complexité et donner le même poids à tous les descripteurs."
   ]
  },
  {
   "cell_type": "code",
   "execution_count": 5,
   "metadata": {},
   "outputs": [
    {
     "name": "stderr",
     "output_type": "stream",
     "text": [
      "/home/nicolas/Documents/3A_ENSTA/ml_embedded/vultr-tensorflow/lib/python3.8/site-packages/numpy/core/_methods.py:239: RuntimeWarning: overflow encountered in multiply\n",
      "  x = um.multiply(x, x, out=x)\n"
     ]
    }
   ],
   "source": [
    "# Normalisation \n",
    "images_mean = np.mean(X_train, axis=0, keepdims=True)\n",
    "images_std = np.std(X_test, axis=0, keepdims=True) + 1e-7\n",
    "X_train = (X_train - images_mean) / images_std\n",
    "X_test = (X_test - images_mean) / images_std"
   ]
  },
  {
   "attachments": {},
   "cell_type": "markdown",
   "metadata": {},
   "source": [
    "On crée ensuite le réseau de neuronne."
   ]
  },
  {
   "cell_type": "code",
   "execution_count": 6,
   "metadata": {},
   "outputs": [
    {
     "name": "stdout",
     "output_type": "stream",
     "text": [
      "Model: \"Sequential_CNN\"\n",
      "_________________________________________________________________\n",
      " Layer (type)                Output Shape              Param #   \n",
      "=================================================================\n",
      " dense (Dense)               (None, 256)               262400    \n",
      "                                                                 \n",
      " dense_1 (Dense)             (None, 10)                2570      \n",
      "                                                                 \n",
      "=================================================================\n",
      "Total params: 264,970\n",
      "Trainable params: 264,970\n",
      "Non-trainable params: 0\n",
      "_________________________________________________________________\n"
     ]
    }
   ],
   "source": [
    "## creation du reseau de neuronne\n",
    "model = Sequential(name=\"Sequential_CNN\")\n",
    "# couche de classification\n",
    "model.add(Dense(256, activation='relu', input_shape = [1024]))\n",
    "model.add(Dense(len(unique_label), activation='softmax'))\n",
    "model.summary()"
   ]
  },
  {
   "attachments": {},
   "cell_type": "markdown",
   "metadata": {},
   "source": [
    "Apprentissage :"
   ]
  },
  {
   "cell_type": "code",
   "execution_count": 7,
   "metadata": {},
   "outputs": [
    {
     "name": "stdout",
     "output_type": "stream",
     "text": [
      "Epoch 1/40\n",
      "21/21 [==============================] - 1s 7ms/step - loss: 1.9947 - accuracy: 0.3034\n",
      "Epoch 2/40\n",
      "21/21 [==============================] - 0s 7ms/step - loss: 1.5625 - accuracy: 0.4559\n",
      "Epoch 3/40\n",
      "21/21 [==============================] - 0s 5ms/step - loss: 1.3477 - accuracy: 0.5411\n",
      "Epoch 4/40\n",
      "21/21 [==============================] - 0s 6ms/step - loss: 1.2150 - accuracy: 0.5859\n",
      "Epoch 5/40\n",
      "21/21 [==============================] - 0s 6ms/step - loss: 1.1087 - accuracy: 0.6472\n",
      "Epoch 6/40\n",
      "21/21 [==============================] - 0s 6ms/step - loss: 1.0326 - accuracy: 0.6667\n",
      "Epoch 7/40\n",
      "21/21 [==============================] - 0s 6ms/step - loss: 0.9950 - accuracy: 0.6487\n",
      "Epoch 8/40\n",
      "21/21 [==============================] - 0s 6ms/step - loss: 0.9339 - accuracy: 0.7025\n",
      "Epoch 9/40\n",
      "21/21 [==============================] - 0s 6ms/step - loss: 0.9008 - accuracy: 0.7294\n",
      "Epoch 10/40\n",
      "21/21 [==============================] - 0s 7ms/step - loss: 0.8183 - accuracy: 0.7623\n",
      "Epoch 11/40\n",
      "21/21 [==============================] - 0s 6ms/step - loss: 0.7676 - accuracy: 0.7728\n",
      "Epoch 12/40\n",
      "21/21 [==============================] - 0s 7ms/step - loss: 0.7535 - accuracy: 0.7758\n",
      "Epoch 13/40\n",
      "21/21 [==============================] - 0s 8ms/step - loss: 0.7042 - accuracy: 0.7848\n",
      "Epoch 14/40\n",
      "21/21 [==============================] - 0s 7ms/step - loss: 0.6973 - accuracy: 0.8057\n",
      "Epoch 15/40\n",
      "21/21 [==============================] - 0s 8ms/step - loss: 0.6789 - accuracy: 0.7982\n",
      "Epoch 16/40\n",
      "21/21 [==============================] - 0s 7ms/step - loss: 0.6684 - accuracy: 0.8012\n",
      "Epoch 17/40\n",
      "21/21 [==============================] - 0s 6ms/step - loss: 0.6103 - accuracy: 0.8445\n",
      "Epoch 18/40\n",
      "21/21 [==============================] - 0s 7ms/step - loss: 0.5718 - accuracy: 0.8416\n",
      "Epoch 19/40\n",
      "21/21 [==============================] - 0s 8ms/step - loss: 0.5864 - accuracy: 0.8371\n",
      "Epoch 20/40\n",
      "21/21 [==============================] - 0s 6ms/step - loss: 0.5672 - accuracy: 0.8565\n",
      "Epoch 21/40\n",
      "21/21 [==============================] - 0s 6ms/step - loss: 0.5512 - accuracy: 0.8401\n",
      "Epoch 22/40\n",
      "21/21 [==============================] - 0s 6ms/step - loss: 0.5369 - accuracy: 0.8475\n",
      "Epoch 23/40\n",
      "21/21 [==============================] - 0s 7ms/step - loss: 0.4974 - accuracy: 0.8670\n",
      "Epoch 24/40\n",
      "21/21 [==============================] - 0s 6ms/step - loss: 0.4862 - accuracy: 0.8640\n",
      "Epoch 25/40\n",
      "21/21 [==============================] - 0s 6ms/step - loss: 0.4822 - accuracy: 0.8640\n",
      "Epoch 26/40\n",
      "21/21 [==============================] - 0s 6ms/step - loss: 0.4827 - accuracy: 0.8356\n",
      "Epoch 27/40\n",
      "21/21 [==============================] - 0s 6ms/step - loss: 0.4581 - accuracy: 0.8714\n",
      "Epoch 28/40\n",
      "21/21 [==============================] - 0s 6ms/step - loss: 0.4464 - accuracy: 0.8640\n",
      "Epoch 29/40\n",
      "21/21 [==============================] - 0s 6ms/step - loss: 0.4352 - accuracy: 0.8819\n",
      "Epoch 30/40\n",
      "21/21 [==============================] - 0s 6ms/step - loss: 0.4441 - accuracy: 0.8729\n",
      "Epoch 31/40\n",
      "21/21 [==============================] - 0s 6ms/step - loss: 0.4283 - accuracy: 0.8849\n",
      "Epoch 32/40\n",
      "21/21 [==============================] - 0s 6ms/step - loss: 0.4168 - accuracy: 0.8774\n",
      "Epoch 33/40\n",
      "21/21 [==============================] - 0s 6ms/step - loss: 0.3914 - accuracy: 0.8834\n",
      "Epoch 34/40\n",
      "21/21 [==============================] - 0s 6ms/step - loss: 0.3985 - accuracy: 0.8759\n",
      "Epoch 35/40\n",
      "21/21 [==============================] - 0s 6ms/step - loss: 0.3904 - accuracy: 0.8909\n",
      "Epoch 36/40\n",
      "21/21 [==============================] - 0s 6ms/step - loss: 0.3643 - accuracy: 0.9043\n",
      "Epoch 37/40\n",
      "21/21 [==============================] - 0s 6ms/step - loss: 0.3667 - accuracy: 0.8984\n",
      "Epoch 38/40\n",
      "21/21 [==============================] - 0s 6ms/step - loss: 0.3714 - accuracy: 0.8834\n",
      "Epoch 39/40\n",
      "21/21 [==============================] - 0s 6ms/step - loss: 0.3789 - accuracy: 0.8909\n",
      "Epoch 40/40\n",
      "21/21 [==============================] - 0s 6ms/step - loss: 0.3389 - accuracy: 0.9073\n"
     ]
    }
   ],
   "source": [
    "# paramètres\n",
    "NB_EPOCHS = 40\n",
    "LEARNING_RATE = 0.1\n",
    "MOMENTUM = 0.09\n",
    "DECAY = 0.01\n",
    "\n",
    "#  Choix de la tâche à effectuer = choix de la fonction de loss/pertes/coûts à minimise\n",
    "loss_fcn = tf.keras.losses.SparseCategoricalCrossentropy()# sans alias\n",
    "\n",
    "# compilation ...\n",
    "model.compile(loss=loss_fcn, optimizer='ADAM', metrics=['accuracy'])\n",
    "#model.compile(loss='mean_squared_error', optimizer=optimizer, metrics=['mean_asbolute_error', 'mean_squared_error'])\n",
    "\n",
    "#... et entrainement\n",
    "history = model.fit(X_train, y_train, epochs=NB_EPOCHS)"
   ]
  },
  {
   "attachments": {},
   "cell_type": "markdown",
   "metadata": {},
   "source": [
    "## III. Evaluation du modèle"
   ]
  },
  {
   "cell_type": "code",
   "execution_count": 8,
   "metadata": {},
   "outputs": [
    {
     "name": "stdout",
     "output_type": "stream",
     "text": [
      "11/11 [==============================] - 0s 2ms/step\n",
      "\n",
      "\n",
      "Confusion Matrix\n",
      "[[16  0  1  2  1  0  1  0  2  7]\n",
      " [ 0 28  1  0  0  1  0  0  0  0]\n",
      " [ 2  1 17  2  4  1  0  0  2  8]\n",
      " [ 2  1  0 25  0  0  5  2  1  6]\n",
      " [ 0  0  3  2 25  0  0  3  2  1]\n",
      " [ 1 13  0  0  0 11  1  0  0  4]\n",
      " [ 2  0  0  0  1  0 26  0  0  3]\n",
      " [ 0  1  0  1  0  1  0 29  0  0]\n",
      " [ 1  1  2  4  4  0  2  2 17  1]\n",
      " [ 1  3  1  3  0  1  5  0  2 11]]\n",
      "\n",
      "\n",
      "Classification Report\n",
      "              precision    recall  f1-score   support\n",
      "\n",
      "       blues       0.64      0.53      0.58        30\n",
      "   classical       0.58      0.93      0.72        30\n",
      "     country       0.68      0.46      0.55        37\n",
      "       disco       0.64      0.60      0.62        42\n",
      "      hiphop       0.71      0.69      0.70        36\n",
      "        jazz       0.73      0.37      0.49        30\n",
      "       metal       0.65      0.81      0.72        32\n",
      "         pop       0.81      0.91      0.85        32\n",
      "      reggae       0.65      0.50      0.57        34\n",
      "        rock       0.27      0.41      0.32        27\n",
      "\n",
      "    accuracy                           0.62       330\n",
      "   macro avg       0.64      0.62      0.61       330\n",
      "weighted avg       0.64      0.62      0.62       330\n",
      "\n"
     ]
    }
   ],
   "source": [
    "#Confution Matrix and Classification Report\n",
    "Y_pred = model.predict(X_test)\n",
    "y_pred = np.argmax(Y_pred, axis=1)\n",
    "print()\n",
    "print()\n",
    "print('Confusion Matrix')\n",
    "print(confusion_matrix(y_test, y_pred))\n",
    "print()\n",
    "print()\n",
    "print('Classification Report')\n",
    "print(classification_report(labelInd_test, y_pred, target_names=unique_label))"
   ]
  },
  {
   "attachments": {},
   "cell_type": "markdown",
   "metadata": {},
   "source": [
    "## IV. Enregistrement de l'ensemble d'évaluation"
   ]
  },
  {
   "cell_type": "code",
   "execution_count": 9,
   "metadata": {},
   "outputs": [
    {
     "name": "stdout",
     "output_type": "stream",
     "text": [
      "11/11 [==============================] - 0s 3ms/step - loss: 1.9913 - accuracy: 0.6212\n",
      "[1.9912750720977783, 0.6212121248245239]\n",
      "11/11 [==============================] - 0s 3ms/step - loss: 1.9913 - accuracy: 0.6212\n"
     ]
    }
   ],
   "source": [
    "txt = \"\"\n",
    "txt += \"#ifndef TEST_DATASET_H\\n#define TEST_DATASET_H\\n\\n\"\n",
    "txt += \"#define N_TEST_EXAMPLES \" + str(X_test.shape[0]) + \"\\n\"\n",
    "txt += \"#define N_FEATURES \" + str(X_test.shape[1]) + \"\\n\"\n",
    "txt += \"#define N_CLASSES 10\\n\\n\"\n",
    "print(model.evaluate(X_test, y_test))\n",
    "txt += \"float test_acc=\" + str(model.evaluate(X_test, y_test)[1]) +\";\\n\\n\"\n",
    "\n",
    "txt += \"float X_test[N_TEST_EXAMPLES][N_FEATURES] = {\\n\"\n",
    "for i in range(X_test.shape[0]-1):\n",
    "    txt += \"{\"\n",
    "    for j in range(X_test.shape[1]-1):\n",
    "        txt += str(X_test[i,j].numpy()) +\",\"\n",
    "    txt += str(X_test[i,X_test.shape[1]-1].numpy()) + \"},\\n\"\n",
    "txt += \"{\"\n",
    "for j in range(X_test.shape[1]-1):\n",
    "    txt += str(X_test[X_test.shape[0]-1,j].numpy()) +\",\"\n",
    "txt += str(X_test[X_test.shape[0]-1,X_test.shape[1]-1].numpy()) + \"}};\\n\\n\"\n",
    "\n",
    "txt += \"float y_test[N_FEATURES]={\"\n",
    "for i in range(X_test.shape[0]-1):\n",
    "    txt += str(y_test[i].numpy()) +\",\"\n",
    "txt += str(y_test[X_test.shape[0]-1].numpy()) +\"};\\n\\n\"\n",
    "\n",
    "txt += \"#endif\"\n",
    "\n",
    "# écriture du code dans le fichier\n",
    "fichier = open(\"../../inference/NeuronalNetwork/test_dataset.h\", \"w\")\n",
    "fichier.write(txt)\n",
    "fichier.close()"
   ]
  },
  {
   "attachments": {},
   "cell_type": "markdown",
   "metadata": {},
   "source": [
    "## V. Enregistrement du modèle sous tensorflow-lite"
   ]
  },
  {
   "cell_type": "code",
   "execution_count": 10,
   "metadata": {},
   "outputs": [
    {
     "name": "stderr",
     "output_type": "stream",
     "text": [
      "WARNING:absl:Found untraced functions such as _update_step_xla while saving (showing 1 of 1). These functions will not be directly callable after loading.\n"
     ]
    },
    {
     "name": "stdout",
     "output_type": "stream",
     "text": [
      "INFO:tensorflow:Assets written to: /tmp/tmporgan2e4/assets\n"
     ]
    },
    {
     "name": "stderr",
     "output_type": "stream",
     "text": [
      "INFO:tensorflow:Assets written to: /tmp/tmporgan2e4/assets\n",
      "2023-01-19 20:19:10.644433: W tensorflow/compiler/mlir/lite/python/tf_tfl_flatbuffer_helpers.cc:362] Ignored output_format.\n",
      "2023-01-19 20:19:10.644473: W tensorflow/compiler/mlir/lite/python/tf_tfl_flatbuffer_helpers.cc:365] Ignored drop_control_dependency.\n",
      "2023-01-19 20:19:10.645185: I tensorflow/cc/saved_model/reader.cc:45] Reading SavedModel from: /tmp/tmporgan2e4\n",
      "2023-01-19 20:19:10.646500: I tensorflow/cc/saved_model/reader.cc:89] Reading meta graph with tags { serve }\n",
      "2023-01-19 20:19:10.646549: I tensorflow/cc/saved_model/reader.cc:130] Reading SavedModel debug info (if present) from: /tmp/tmporgan2e4\n",
      "2023-01-19 20:19:10.649736: I tensorflow/compiler/mlir/mlir_graph_optimization_pass.cc:357] MLIR V1 optimization pass is not enabled\n",
      "2023-01-19 20:19:10.650574: I tensorflow/cc/saved_model/loader.cc:229] Restoring SavedModel bundle.\n",
      "2023-01-19 20:19:10.687657: I tensorflow/cc/saved_model/loader.cc:213] Running initialization op on SavedModel bundle at path: /tmp/tmporgan2e4\n",
      "2023-01-19 20:19:10.696652: I tensorflow/cc/saved_model/loader.cc:305] SavedModel load for tags { serve }; Status: success: OK. Took 51469 microseconds.\n",
      "2023-01-19 20:19:10.716837: I tensorflow/compiler/mlir/tensorflow/utils/dump_mlir_util.cc:268] disabling MLIR crash reproducer, set env var `MLIR_CRASH_REPRODUCER_DIRECTORY` to enable.\n"
     ]
    }
   ],
   "source": [
    "# Convert the model.\n",
    "converter = tf.lite.TFLiteConverter.from_keras_model(model)\n",
    "tflite_model = converter.convert()\n",
    "\n",
    "# Save the model.\n",
    "with open('../../inference/NeuronalNetwork/model.tflite', 'wb') as f:\n",
    "  f.write(tflite_model)"
   ]
  },
  {
   "attachments": {},
   "cell_type": "markdown",
   "metadata": {},
   "source": [
    "## VI. Enregistrement optimisé du modèle sous tensorflowLite"
   ]
  },
  {
   "cell_type": "code",
   "execution_count": 11,
   "metadata": {},
   "outputs": [
    {
     "name": "stderr",
     "output_type": "stream",
     "text": [
      "WARNING:absl:Found untraced functions such as _update_step_xla while saving (showing 1 of 1). These functions will not be directly callable after loading.\n"
     ]
    },
    {
     "name": "stdout",
     "output_type": "stream",
     "text": [
      "INFO:tensorflow:Assets written to: /tmp/tmph5nsxh41/assets\n"
     ]
    },
    {
     "name": "stderr",
     "output_type": "stream",
     "text": [
      "INFO:tensorflow:Assets written to: /tmp/tmph5nsxh41/assets\n",
      "2023-01-19 20:19:11.600496: W tensorflow/compiler/mlir/lite/python/tf_tfl_flatbuffer_helpers.cc:362] Ignored output_format.\n",
      "2023-01-19 20:19:11.600566: W tensorflow/compiler/mlir/lite/python/tf_tfl_flatbuffer_helpers.cc:365] Ignored drop_control_dependency.\n",
      "2023-01-19 20:19:11.600820: I tensorflow/cc/saved_model/reader.cc:45] Reading SavedModel from: /tmp/tmph5nsxh41\n",
      "2023-01-19 20:19:11.602126: I tensorflow/cc/saved_model/reader.cc:89] Reading meta graph with tags { serve }\n",
      "2023-01-19 20:19:11.602156: I tensorflow/cc/saved_model/reader.cc:130] Reading SavedModel debug info (if present) from: /tmp/tmph5nsxh41\n",
      "2023-01-19 20:19:11.607410: I tensorflow/cc/saved_model/loader.cc:229] Restoring SavedModel bundle.\n",
      "2023-01-19 20:19:11.659559: I tensorflow/cc/saved_model/loader.cc:213] Running initialization op on SavedModel bundle at path: /tmp/tmph5nsxh41\n",
      "2023-01-19 20:19:11.672172: I tensorflow/cc/saved_model/loader.cc:305] SavedModel load for tags { serve }; Status: success: OK. Took 71351 microseconds.\n"
     ]
    }
   ],
   "source": [
    "# Convert the model.\n",
    "converter = tf.lite.TFLiteConverter.from_keras_model(model)\n",
    "converter.optimizations = [tf.lite.Optimize.DEFAULT]\n",
    "tflite_model = converter.convert()\n",
    "\n",
    "# Save the model.\n",
    "with open('../../inference/NeuronalNetwork/modelOptimize.tflite', 'wb') as f:\n",
    "  f.write(tflite_model)"
   ]
  }
 ],
 "metadata": {
  "kernelspec": {
   "display_name": "vultr-tensorflow",
   "language": "python",
   "name": "python3"
  },
  "language_info": {
   "codemirror_mode": {
    "name": "ipython",
    "version": 3
   },
   "file_extension": ".py",
   "mimetype": "text/x-python",
   "name": "python",
   "nbconvert_exporter": "python",
   "pygments_lexer": "ipython3",
   "version": "3.8.10"
  },
  "orig_nbformat": 4,
  "vscode": {
   "interpreter": {
    "hash": "e7dc7594d92268b386206cffd6139d5884634a15f34fd87543255dfd1480eefc"
   }
  }
 },
 "nbformat": 4,
 "nbformat_minor": 2
}
