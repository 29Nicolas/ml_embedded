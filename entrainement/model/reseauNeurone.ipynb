{
 "cells": [
  {
   "attachments": {},
   "cell_type": "markdown",
   "metadata": {},
   "source": [
    "# Reseau de neuronne\n",
    "\n",
    "## Importation des librairies"
   ]
  },
  {
   "cell_type": "code",
   "execution_count": 1,
   "metadata": {},
   "outputs": [
    {
     "name": "stderr",
     "output_type": "stream",
     "text": [
      "2023-01-19 00:04:20.646820: I tensorflow/core/platform/cpu_feature_guard.cc:193] This TensorFlow binary is optimized with oneAPI Deep Neural Network Library (oneDNN) to use the following CPU instructions in performance-critical operations:  AVX2 FMA\n",
      "To enable them in other operations, rebuild TensorFlow with the appropriate compiler flags.\n",
      "2023-01-19 00:04:21.082229: W tensorflow/compiler/xla/stream_executor/platform/default/dso_loader.cc:64] Could not load dynamic library 'libcudart.so.11.0'; dlerror: libcudart.so.11.0: cannot open shared object file: No such file or directory; LD_LIBRARY_PATH: /usr/lib/x86_64-linux-gnu/gazebo-11/plugins:/opt/ros/foxy/opt/yaml_cpp_vendor/lib:/opt/ros/foxy/opt/rviz_ogre_vendor/lib:/opt/ros/foxy/lib/x86_64-linux-gnu:/opt/ros/foxy/lib\n",
      "2023-01-19 00:04:21.082296: I tensorflow/compiler/xla/stream_executor/cuda/cudart_stub.cc:29] Ignore above cudart dlerror if you do not have a GPU set up on your machine.\n",
      "2023-01-19 00:04:23.218350: W tensorflow/compiler/xla/stream_executor/platform/default/dso_loader.cc:64] Could not load dynamic library 'libnvinfer.so.7'; dlerror: libnvinfer.so.7: cannot open shared object file: No such file or directory; LD_LIBRARY_PATH: /usr/lib/x86_64-linux-gnu/gazebo-11/plugins:/opt/ros/foxy/opt/yaml_cpp_vendor/lib:/opt/ros/foxy/opt/rviz_ogre_vendor/lib:/opt/ros/foxy/lib/x86_64-linux-gnu:/opt/ros/foxy/lib\n",
      "2023-01-19 00:04:23.218580: W tensorflow/compiler/xla/stream_executor/platform/default/dso_loader.cc:64] Could not load dynamic library 'libnvinfer_plugin.so.7'; dlerror: libnvinfer_plugin.so.7: cannot open shared object file: No such file or directory; LD_LIBRARY_PATH: /usr/lib/x86_64-linux-gnu/gazebo-11/plugins:/opt/ros/foxy/opt/yaml_cpp_vendor/lib:/opt/ros/foxy/opt/rviz_ogre_vendor/lib:/opt/ros/foxy/lib/x86_64-linux-gnu:/opt/ros/foxy/lib\n",
      "2023-01-19 00:04:23.218597: W tensorflow/compiler/tf2tensorrt/utils/py_utils.cc:38] TF-TRT Warning: Cannot dlopen some TensorRT libraries. If you would like to use Nvidia GPU with TensorRT, please make sure the missing libraries mentioned above are installed properly.\n"
     ]
    }
   ],
   "source": [
    "import numpy as np\n",
    "import matplotlib.pyplot as plt\n",
    "import pandas as pd\n",
    "import tensorflow as tf\n",
    "from sklearn.model_selection import train_test_split\n",
    "from sklearn import preprocessing\n",
    "from tensorflow.keras.models import Sequential\n",
    "from tensorflow import keras\n",
    "from tensorflow.keras.layers import Conv2D, MaxPooling2D, Flatten, Dense, Dropout\n",
    "from sklearn.metrics import confusion_matrix, classification_report"
   ]
  },
  {
   "attachments": {},
   "cell_type": "markdown",
   "metadata": {},
   "source": [
    "## I. Lecture des descripteurs"
   ]
  },
  {
   "cell_type": "code",
   "execution_count": 2,
   "metadata": {},
   "outputs": [],
   "source": [
    "data = pd.read_csv('../../inference/dataset.csv')\n",
    "data = np.array(data.values)\n",
    "label_names = data[:,1024]\n",
    "unique_label = np.unique(label_names)\n",
    "feature_values = data[:, :1024]"
   ]
  },
  {
   "attachments": {},
   "cell_type": "markdown",
   "metadata": {},
   "source": [
    "## II. Réseau de neuronne\n",
    "\n",
    "On commence par séparer les données en deux ensembles: un pour l'apprentissage et l'autre pour l'évaluation du modèle"
   ]
  },
  {
   "cell_type": "code",
   "execution_count": 3,
   "metadata": {},
   "outputs": [],
   "source": [
    "# split données\n",
    "X_train, X_test, y_train, y_test = train_test_split(feature_values, label_names, test_size=0.33, random_state=43)"
   ]
  },
  {
   "attachments": {},
   "cell_type": "markdown",
   "metadata": {},
   "source": [
    "On poursuit en transformant les labels en indice:"
   ]
  },
  {
   "cell_type": "code",
   "execution_count": 4,
   "metadata": {},
   "outputs": [
    {
     "name": "stderr",
     "output_type": "stream",
     "text": [
      "2023-01-19 00:04:27.624078: W tensorflow/compiler/xla/stream_executor/platform/default/dso_loader.cc:64] Could not load dynamic library 'libcuda.so.1'; dlerror: libcuda.so.1: cannot open shared object file: No such file or directory; LD_LIBRARY_PATH: /usr/lib/x86_64-linux-gnu/gazebo-11/plugins:/opt/ros/foxy/opt/yaml_cpp_vendor/lib:/opt/ros/foxy/opt/rviz_ogre_vendor/lib:/opt/ros/foxy/lib/x86_64-linux-gnu:/opt/ros/foxy/lib\n",
      "2023-01-19 00:04:27.624302: W tensorflow/compiler/xla/stream_executor/cuda/cuda_driver.cc:265] failed call to cuInit: UNKNOWN ERROR (303)\n",
      "2023-01-19 00:04:27.624339: I tensorflow/compiler/xla/stream_executor/cuda/cuda_diagnostics.cc:156] kernel driver does not appear to be running on this host (nicolas-Lenovo-IdeaPad-C340-14IWL): /proc/driver/nvidia/version does not exist\n",
      "2023-01-19 00:04:27.626675: I tensorflow/core/platform/cpu_feature_guard.cc:193] This TensorFlow binary is optimized with oneAPI Deep Neural Network Library (oneDNN) to use the following CPU instructions in performance-critical operations:  AVX2 FMA\n",
      "To enable them in other operations, rebuild TensorFlow with the appropriate compiler flags.\n"
     ]
    }
   ],
   "source": [
    "# enc labelNames to indices\n",
    "encName2Ind = preprocessing.LabelEncoder()\n",
    "encName2Ind.fit(unique_label)\n",
    "labelIndices_unique = encName2Ind.transform(unique_label)\n",
    "labelIndices  = encName2Ind.transform(label_names)\n",
    "\n",
    "# Conversion des noms des labels en indices\n",
    "labelInd_train = encName2Ind.transform(y_train)\n",
    "labelInd_test = encName2Ind.transform(y_test)\n",
    "\n",
    "X_train = tf.convert_to_tensor(X_train, dtype=tf.float32)\n",
    "X_test = tf.convert_to_tensor(X_test, dtype=tf.float32)\n",
    "y_train = tf.convert_to_tensor(labelInd_train, dtype=tf.float32)\n",
    "y_test = tf.convert_to_tensor(labelInd_test, dtype=tf.float32)"
   ]
  },
  {
   "attachments": {},
   "cell_type": "markdown",
   "metadata": {},
   "source": [
    "On normalise les données pour réduire la complexité et donner le même poids à tous les descripteurs."
   ]
  },
  {
   "cell_type": "code",
   "execution_count": 5,
   "metadata": {},
   "outputs": [
    {
     "name": "stderr",
     "output_type": "stream",
     "text": [
      "/home/nicolas/Documents/3A_ENSTA/ml_embedded/vultr-tensorflow/lib/python3.8/site-packages/numpy/core/_methods.py:239: RuntimeWarning: overflow encountered in multiply\n",
      "  x = um.multiply(x, x, out=x)\n"
     ]
    }
   ],
   "source": [
    "# Normalisation \n",
    "images_mean = np.mean(X_train, axis=0, keepdims=True)\n",
    "images_std = np.std(X_test, axis=0, keepdims=True) + 1e-7\n",
    "X_train = (X_train - images_mean) / images_std\n",
    "X_test = (X_test - images_mean) / images_std"
   ]
  },
  {
   "attachments": {},
   "cell_type": "markdown",
   "metadata": {},
   "source": [
    "On crée ensuite le réseau de neuronne."
   ]
  },
  {
   "cell_type": "code",
   "execution_count": 6,
   "metadata": {},
   "outputs": [
    {
     "name": "stdout",
     "output_type": "stream",
     "text": [
      "Model: \"Sequential_CNN\"\n",
      "_________________________________________________________________\n",
      " Layer (type)                Output Shape              Param #   \n",
      "=================================================================\n",
      " dense (Dense)               (None, 256)               262400    \n",
      "                                                                 \n",
      " dense_1 (Dense)             (None, 10)                2570      \n",
      "                                                                 \n",
      "=================================================================\n",
      "Total params: 264,970\n",
      "Trainable params: 264,970\n",
      "Non-trainable params: 0\n",
      "_________________________________________________________________\n"
     ]
    }
   ],
   "source": [
    "## creation du reseau de neuronne\n",
    "model = Sequential(name=\"Sequential_CNN\")\n",
    "# couche de classification\n",
    "model.add(Dense(256, activation='relu', input_shape = [1024]))\n",
    "model.add(Dense(len(unique_label), activation='softmax'))\n",
    "model.summary()"
   ]
  },
  {
   "attachments": {},
   "cell_type": "markdown",
   "metadata": {},
   "source": [
    "Apprentissage :"
   ]
  },
  {
   "cell_type": "code",
   "execution_count": 7,
   "metadata": {},
   "outputs": [
    {
     "name": "stdout",
     "output_type": "stream",
     "text": [
      "Epoch 1/40\n",
      "21/21 [==============================] - 1s 6ms/step - loss: 1.9861 - accuracy: 0.2975\n",
      "Epoch 2/40\n",
      "21/21 [==============================] - 0s 7ms/step - loss: 1.5613 - accuracy: 0.4544\n",
      "Epoch 3/40\n",
      "21/21 [==============================] - 0s 5ms/step - loss: 1.3748 - accuracy: 0.5067\n",
      "Epoch 4/40\n",
      "21/21 [==============================] - 0s 6ms/step - loss: 1.2514 - accuracy: 0.5635\n",
      "Epoch 5/40\n",
      "21/21 [==============================] - 0s 6ms/step - loss: 1.1346 - accuracy: 0.6024\n",
      "Epoch 6/40\n",
      "21/21 [==============================] - 0s 6ms/step - loss: 1.0470 - accuracy: 0.6682\n",
      "Epoch 7/40\n",
      "21/21 [==============================] - 0s 6ms/step - loss: 0.9708 - accuracy: 0.6951\n",
      "Epoch 8/40\n",
      "21/21 [==============================] - 0s 6ms/step - loss: 0.9428 - accuracy: 0.6936\n",
      "Epoch 9/40\n",
      "21/21 [==============================] - 0s 6ms/step - loss: 0.8897 - accuracy: 0.7324\n",
      "Epoch 10/40\n",
      "21/21 [==============================] - 0s 6ms/step - loss: 0.8282 - accuracy: 0.7519\n",
      "Epoch 11/40\n",
      "21/21 [==============================] - 0s 6ms/step - loss: 0.7791 - accuracy: 0.7713\n",
      "Epoch 12/40\n",
      "21/21 [==============================] - 0s 6ms/step - loss: 0.7522 - accuracy: 0.7892\n",
      "Epoch 13/40\n",
      "21/21 [==============================] - 0s 6ms/step - loss: 0.7129 - accuracy: 0.7937\n",
      "Epoch 14/40\n",
      "21/21 [==============================] - 0s 6ms/step - loss: 0.7041 - accuracy: 0.7892\n",
      "Epoch 15/40\n",
      "21/21 [==============================] - 0s 6ms/step - loss: 0.7027 - accuracy: 0.7967\n",
      "Epoch 16/40\n",
      "21/21 [==============================] - 0s 6ms/step - loss: 0.6445 - accuracy: 0.8281\n",
      "Epoch 17/40\n",
      "21/21 [==============================] - 0s 6ms/step - loss: 0.6129 - accuracy: 0.8146\n",
      "Epoch 18/40\n",
      "21/21 [==============================] - 0s 5ms/step - loss: 0.5788 - accuracy: 0.8430\n",
      "Epoch 19/40\n",
      "21/21 [==============================] - 0s 6ms/step - loss: 0.5697 - accuracy: 0.8356\n",
      "Epoch 20/40\n",
      "21/21 [==============================] - 0s 6ms/step - loss: 0.5668 - accuracy: 0.8371\n",
      "Epoch 21/40\n",
      "21/21 [==============================] - 0s 6ms/step - loss: 0.5439 - accuracy: 0.8475\n",
      "Epoch 22/40\n",
      "21/21 [==============================] - 0s 6ms/step - loss: 0.5118 - accuracy: 0.8700\n",
      "Epoch 23/40\n",
      "21/21 [==============================] - 0s 8ms/step - loss: 0.5262 - accuracy: 0.8430\n",
      "Epoch 24/40\n",
      "21/21 [==============================] - 0s 9ms/step - loss: 0.5095 - accuracy: 0.8550\n",
      "Epoch 25/40\n",
      "21/21 [==============================] - 0s 8ms/step - loss: 0.5154 - accuracy: 0.8565\n",
      "Epoch 26/40\n",
      "21/21 [==============================] - 0s 8ms/step - loss: 0.4649 - accuracy: 0.8729\n",
      "Epoch 27/40\n",
      "21/21 [==============================] - 0s 7ms/step - loss: 0.4488 - accuracy: 0.8789\n",
      "Epoch 28/40\n",
      "21/21 [==============================] - 0s 6ms/step - loss: 0.4480 - accuracy: 0.8774\n",
      "Epoch 29/40\n",
      "21/21 [==============================] - 0s 8ms/step - loss: 0.4482 - accuracy: 0.8759\n",
      "Epoch 30/40\n",
      "21/21 [==============================] - 0s 7ms/step - loss: 0.4644 - accuracy: 0.8475\n",
      "Epoch 31/40\n",
      "21/21 [==============================] - 0s 7ms/step - loss: 0.4200 - accuracy: 0.8834\n",
      "Epoch 32/40\n",
      "21/21 [==============================] - 0s 6ms/step - loss: 0.4119 - accuracy: 0.8834\n",
      "Epoch 33/40\n",
      "21/21 [==============================] - 0s 8ms/step - loss: 0.3919 - accuracy: 0.8909\n",
      "Epoch 34/40\n",
      "21/21 [==============================] - 0s 9ms/step - loss: 0.3879 - accuracy: 0.9013\n",
      "Epoch 35/40\n",
      "21/21 [==============================] - 0s 7ms/step - loss: 0.3842 - accuracy: 0.8864\n",
      "Epoch 36/40\n",
      "21/21 [==============================] - 0s 7ms/step - loss: 0.3677 - accuracy: 0.9088\n",
      "Epoch 37/40\n",
      "21/21 [==============================] - 0s 6ms/step - loss: 0.3938 - accuracy: 0.8849\n",
      "Epoch 38/40\n",
      "21/21 [==============================] - 0s 8ms/step - loss: 0.3848 - accuracy: 0.8954\n",
      "Epoch 39/40\n",
      "21/21 [==============================] - 0s 8ms/step - loss: 0.3479 - accuracy: 0.9103\n",
      "Epoch 40/40\n",
      "21/21 [==============================] - 0s 9ms/step - loss: 0.3387 - accuracy: 0.9043\n"
     ]
    }
   ],
   "source": [
    "# paramètres\n",
    "NB_EPOCHS = 40\n",
    "LEARNING_RATE = 0.1\n",
    "MOMENTUM = 0.09\n",
    "DECAY = 0.01\n",
    "\n",
    "#  Choix de la tâche à effectuer = choix de la fonction de loss/pertes/coûts à minimise\n",
    "loss_fcn = tf.keras.losses.SparseCategoricalCrossentropy()# sans alias\n",
    "\n",
    "# compilation ...\n",
    "model.compile(loss=loss_fcn, optimizer='ADAM', metrics=['accuracy'])\n",
    "#model.compile(loss='mean_squared_error', optimizer=optimizer, metrics=['mean_asbolute_error', 'mean_squared_error'])\n",
    "\n",
    "#... et entrainement\n",
    "history = model.fit(X_train, y_train, epochs=NB_EPOCHS)"
   ]
  },
  {
   "attachments": {},
   "cell_type": "markdown",
   "metadata": {},
   "source": [
    "## III. Evaluation du modèle"
   ]
  },
  {
   "cell_type": "code",
   "execution_count": 8,
   "metadata": {},
   "outputs": [
    {
     "name": "stdout",
     "output_type": "stream",
     "text": [
      "11/11 [==============================] - 0s 3ms/step\n",
      "\n",
      "\n",
      "Confusion Matrix\n",
      "[[ 8  0  2  2  0  0  3  0  2 13]\n",
      " [ 0 28  1  0  0  0  1  0  0  0]\n",
      " [ 1  1 14  3  3  1  0  0  1 13]\n",
      " [ 2  1  0 23  2  0  6  2  1  5]\n",
      " [ 0  0  2  3 24  0  0  3  2  2]\n",
      " [ 0 12  0  1  0 11  1  0  0  5]\n",
      " [ 1  0  0  2  1  0 27  0  0  1]\n",
      " [ 0  1  0  2  0  1  0 28  0  0]\n",
      " [ 0  1  2  3  7  0  2  2 15  2]\n",
      " [ 1  3  1  4  1  1  5  0  1 10]]\n",
      "\n",
      "\n",
      "Classification Report\n",
      "              precision    recall  f1-score   support\n",
      "\n",
      "       blues       0.62      0.27      0.37        30\n",
      "   classical       0.60      0.93      0.73        30\n",
      "     country       0.64      0.38      0.47        37\n",
      "       disco       0.53      0.55      0.54        42\n",
      "      hiphop       0.63      0.67      0.65        36\n",
      "        jazz       0.79      0.37      0.50        30\n",
      "       metal       0.60      0.84      0.70        32\n",
      "         pop       0.80      0.88      0.84        32\n",
      "      reggae       0.68      0.44      0.54        34\n",
      "        rock       0.20      0.37      0.26        27\n",
      "\n",
      "    accuracy                           0.57       330\n",
      "   macro avg       0.61      0.57      0.56       330\n",
      "weighted avg       0.61      0.57      0.56       330\n",
      "\n"
     ]
    }
   ],
   "source": [
    "#Confution Matrix and Classification Report\n",
    "Y_pred = model.predict(X_test)\n",
    "y_pred = np.argmax(Y_pred, axis=1)\n",
    "print()\n",
    "print()\n",
    "print('Confusion Matrix')\n",
    "print(confusion_matrix(y_test, y_pred))\n",
    "print()\n",
    "print()\n",
    "print('Classification Report')\n",
    "print(classification_report(labelInd_test, y_pred, target_names=unique_label))"
   ]
  },
  {
   "attachments": {},
   "cell_type": "markdown",
   "metadata": {},
   "source": [
    "## IV. Enregistrement de l'ensemble d'évaluation"
   ]
  },
  {
   "cell_type": "code",
   "execution_count": 9,
   "metadata": {},
   "outputs": [
    {
     "name": "stdout",
     "output_type": "stream",
     "text": [
      "11/11 [==============================] - 0s 3ms/step - loss: 2.0877 - accuracy: 0.5697\n"
     ]
    }
   ],
   "source": [
    "txt = \"\"\n",
    "txt += \"#ifndef TEST_DATASET_H\\n#define TEST_DATASET_H\\n\\n\"\n",
    "txt += \"#define N_TEST_EXAMPLES \" + str(len(X_test)) + \"\\n\"\n",
    "txt += \"#define N_FEATURES \" + str(len(y_test)) + \"\\n\"\n",
    "txt += \"#define N_CLASSES 10\\n\\n\"\n",
    "\n",
    "txt += \"float test_acc=\" + str(model.evaluate(X_test, y_test)[1]) +\";\\n\\n\"\n",
    "\n",
    "txt += \"float X_test[N_TEST_EXAMPLES][N_FEATURES] = {\\n\"\n",
    "for i in range(len(X_test)-1):\n",
    "    txt += \"{\"\n",
    "    for j in range(len(y_test)-1):\n",
    "        txt += str(X_test[i,j].numpy()) +\",\"\n",
    "    txt += str(X_test[i,len(y_test)-1].numpy()) + \"},\\n\"\n",
    "txt += \"{\"\n",
    "for j in range(len(y_test)-1):\n",
    "    txt += str(X_test[len(X_test)-1,j].numpy()) +\",\"\n",
    "txt += str(X_test[len(X_test)-1,len(y_test)-1].numpy()) + \"}};\\n\\n\"\n",
    "\n",
    "txt += \"int y_test[N_FEATURES]={\"\n",
    "for i in range(len(y_test)-1):\n",
    "    txt += str(y_test[i].numpy()) +\",\"\n",
    "txt += str(y_test[len(y_test)-1].numpy()) +\"};\\n\\n\"\n",
    "\n",
    "txt += \"#endif\"\n",
    "\n",
    "# écriture du code dans le fichier\n",
    "fichier = open(\"../../inference/NeuronalNetwork/test_dataset.h\", \"w\")\n",
    "fichier.write(txt)\n",
    "fichier.close()"
   ]
  },
  {
   "attachments": {},
   "cell_type": "markdown",
   "metadata": {},
   "source": [
    "## V. Enregistrement du modèle sous tensorflow-lite"
   ]
  },
  {
   "cell_type": "code",
   "execution_count": 10,
   "metadata": {},
   "outputs": [
    {
     "name": "stderr",
     "output_type": "stream",
     "text": [
      "WARNING:absl:Found untraced functions such as _update_step_xla while saving (showing 1 of 1). These functions will not be directly callable after loading.\n"
     ]
    },
    {
     "name": "stdout",
     "output_type": "stream",
     "text": [
      "INFO:tensorflow:Assets written to: /tmp/tmpdas0ldxh/assets\n"
     ]
    },
    {
     "name": "stderr",
     "output_type": "stream",
     "text": [
      "INFO:tensorflow:Assets written to: /tmp/tmpdas0ldxh/assets\n",
      "2023-01-19 00:05:01.779110: W tensorflow/compiler/mlir/lite/python/tf_tfl_flatbuffer_helpers.cc:362] Ignored output_format.\n",
      "2023-01-19 00:05:01.779154: W tensorflow/compiler/mlir/lite/python/tf_tfl_flatbuffer_helpers.cc:365] Ignored drop_control_dependency.\n",
      "2023-01-19 00:05:01.780572: I tensorflow/cc/saved_model/reader.cc:45] Reading SavedModel from: /tmp/tmpdas0ldxh\n",
      "2023-01-19 00:05:01.782586: I tensorflow/cc/saved_model/reader.cc:89] Reading meta graph with tags { serve }\n",
      "2023-01-19 00:05:01.782627: I tensorflow/cc/saved_model/reader.cc:130] Reading SavedModel debug info (if present) from: /tmp/tmpdas0ldxh\n",
      "2023-01-19 00:05:01.788374: I tensorflow/compiler/mlir/mlir_graph_optimization_pass.cc:357] MLIR V1 optimization pass is not enabled\n",
      "2023-01-19 00:05:01.789585: I tensorflow/cc/saved_model/loader.cc:229] Restoring SavedModel bundle.\n",
      "2023-01-19 00:05:01.834392: I tensorflow/cc/saved_model/loader.cc:213] Running initialization op on SavedModel bundle at path: /tmp/tmpdas0ldxh\n",
      "2023-01-19 00:05:01.844449: I tensorflow/cc/saved_model/loader.cc:305] SavedModel load for tags { serve }; Status: success: OK. Took 64257 microseconds.\n",
      "2023-01-19 00:05:01.871758: I tensorflow/compiler/mlir/tensorflow/utils/dump_mlir_util.cc:268] disabling MLIR crash reproducer, set env var `MLIR_CRASH_REPRODUCER_DIRECTORY` to enable.\n"
     ]
    }
   ],
   "source": [
    "# Convert the model.\n",
    "converter = tf.lite.TFLiteConverter.from_keras_model(model)\n",
    "tflite_model = converter.convert()\n",
    "\n",
    "# Save the model.\n",
    "with open('../../inference/NeuronalNetwork/model.tflite', 'wb') as f:\n",
    "  f.write(tflite_model)"
   ]
  },
  {
   "attachments": {},
   "cell_type": "markdown",
   "metadata": {},
   "source": [
    "## VI. Enregistrement optimisé du modèle sous tensorflowLite"
   ]
  },
  {
   "cell_type": "code",
   "execution_count": 11,
   "metadata": {},
   "outputs": [
    {
     "name": "stderr",
     "output_type": "stream",
     "text": [
      "WARNING:absl:Found untraced functions such as _update_step_xla while saving (showing 1 of 1). These functions will not be directly callable after loading.\n"
     ]
    },
    {
     "name": "stdout",
     "output_type": "stream",
     "text": [
      "INFO:tensorflow:Assets written to: /tmp/tmp425huu7r/assets\n"
     ]
    },
    {
     "name": "stderr",
     "output_type": "stream",
     "text": [
      "INFO:tensorflow:Assets written to: /tmp/tmp425huu7r/assets\n",
      "2023-01-19 00:05:02.894308: W tensorflow/compiler/mlir/lite/python/tf_tfl_flatbuffer_helpers.cc:362] Ignored output_format.\n",
      "2023-01-19 00:05:02.894349: W tensorflow/compiler/mlir/lite/python/tf_tfl_flatbuffer_helpers.cc:365] Ignored drop_control_dependency.\n",
      "2023-01-19 00:05:02.894548: I tensorflow/cc/saved_model/reader.cc:45] Reading SavedModel from: /tmp/tmp425huu7r\n",
      "2023-01-19 00:05:02.896160: I tensorflow/cc/saved_model/reader.cc:89] Reading meta graph with tags { serve }\n",
      "2023-01-19 00:05:02.896185: I tensorflow/cc/saved_model/reader.cc:130] Reading SavedModel debug info (if present) from: /tmp/tmp425huu7r\n",
      "2023-01-19 00:05:02.900644: I tensorflow/cc/saved_model/loader.cc:229] Restoring SavedModel bundle.\n",
      "2023-01-19 00:05:02.935868: I tensorflow/cc/saved_model/loader.cc:213] Running initialization op on SavedModel bundle at path: /tmp/tmp425huu7r\n",
      "2023-01-19 00:05:02.944184: I tensorflow/cc/saved_model/loader.cc:305] SavedModel load for tags { serve }; Status: success: OK. Took 49635 microseconds.\n"
     ]
    }
   ],
   "source": [
    "# Convert the model.\n",
    "converter = tf.lite.TFLiteConverter.from_keras_model(model)\n",
    "converter.optimizations = [tf.lite.Optimize.DEFAULT]\n",
    "tflite_model = converter.convert()\n",
    "\n",
    "# Save the model.\n",
    "with open('../../inference/NeuronalNetwork/modelOptimize.tflite', 'wb') as f:\n",
    "  f.write(tflite_model)"
   ]
  }
 ],
 "metadata": {
  "kernelspec": {
   "display_name": "vultr-tensorflow",
   "language": "python",
   "name": "python3"
  },
  "language_info": {
   "codemirror_mode": {
    "name": "ipython",
    "version": 3
   },
   "file_extension": ".py",
   "mimetype": "text/x-python",
   "name": "python",
   "nbconvert_exporter": "python",
   "pygments_lexer": "ipython3",
   "version": "3.8.10"
  },
  "orig_nbformat": 4,
  "vscode": {
   "interpreter": {
    "hash": "e7dc7594d92268b386206cffd6139d5884634a15f34fd87543255dfd1480eefc"
   }
  }
 },
 "nbformat": 4,
 "nbformat_minor": 2
}
