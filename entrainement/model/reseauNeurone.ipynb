{
 "cells": [
  {
   "attachments": {},
   "cell_type": "markdown",
   "metadata": {},
   "source": [
    "# Reseau de neuronne\n",
    "\n",
    "## Importation des librairies"
   ]
  },
  {
   "cell_type": "code",
   "execution_count": 12,
   "metadata": {},
   "outputs": [],
   "source": [
    "import numpy as np\n",
    "import matplotlib.pyplot as plt\n",
    "import pandas as pd\n",
    "import tensorflow as tf\n",
    "from sklearn.model_selection import train_test_split\n",
    "from sklearn import preprocessing\n",
    "from tensorflow.keras.models import Sequential\n",
    "from tensorflow import keras\n",
    "from tensorflow.keras.layers import Conv2D, MaxPooling2D, Flatten, Dense, Dropout\n",
    "from sklearn.metrics import confusion_matrix, classification_report"
   ]
  },
  {
   "attachments": {},
   "cell_type": "markdown",
   "metadata": {},
   "source": [
    "## I. Lecture des descripteurs"
   ]
  },
  {
   "cell_type": "code",
   "execution_count": 13,
   "metadata": {},
   "outputs": [],
   "source": [
    "data = pd.read_csv('../../inference/dataset.csv')\n",
    "data = np.array(data.values)\n",
    "label_names = data[:,1024]\n",
    "unique_label = np.unique(label_names)\n",
    "feature_values = data[:, :1024]"
   ]
  },
  {
   "attachments": {},
   "cell_type": "markdown",
   "metadata": {},
   "source": [
    "## II. Réseau de neuronne\n",
    "\n",
    "On commence par séparer les données en deux ensembles: un pour l'apprentissage et l'autre pour l'évaluation du modèle"
   ]
  },
  {
   "cell_type": "code",
   "execution_count": 14,
   "metadata": {},
   "outputs": [],
   "source": [
    "# split données\n",
    "X_train, X_test, y_train, y_test = train_test_split(feature_values, label_names, test_size=0.33, random_state=43)"
   ]
  },
  {
   "attachments": {},
   "cell_type": "markdown",
   "metadata": {},
   "source": [
    "On poursuit en transformant les labels en indice:"
   ]
  },
  {
   "cell_type": "code",
   "execution_count": 15,
   "metadata": {},
   "outputs": [],
   "source": [
    "# enc labelNames to indices\n",
    "encName2Ind = preprocessing.LabelEncoder()\n",
    "encName2Ind.fit(unique_label)\n",
    "labelIndices_unique = encName2Ind.transform(unique_label)\n",
    "labelIndices  = encName2Ind.transform(label_names)\n",
    "\n",
    "# Conversion des noms des labels en indices\n",
    "labelInd_train = encName2Ind.transform(y_train)\n",
    "labelInd_test = encName2Ind.transform(y_test)\n",
    "\n",
    "X_train = tf.convert_to_tensor(X_train, dtype=tf.float32)\n",
    "X_test = tf.convert_to_tensor(X_test, dtype=tf.float32)\n",
    "y_train = tf.convert_to_tensor(labelInd_train, dtype=tf.float32)\n",
    "y_test = tf.convert_to_tensor(labelInd_test, dtype=tf.float32)"
   ]
  },
  {
   "attachments": {},
   "cell_type": "markdown",
   "metadata": {},
   "source": [
    "On normalise les données pour réduire la complexité et donner le même poids à tous les descripteurs."
   ]
  },
  {
   "cell_type": "code",
   "execution_count": 16,
   "metadata": {},
   "outputs": [
    {
     "name": "stderr",
     "output_type": "stream",
     "text": [
      "/home/nicolas/Documents/3A_ENSTA/ml_embedded/vultr-tensorflow/lib/python3.8/site-packages/numpy/core/_methods.py:239: RuntimeWarning: overflow encountered in multiply\n",
      "  x = um.multiply(x, x, out=x)\n"
     ]
    }
   ],
   "source": [
    "# Normalisation \n",
    "images_mean = np.mean(X_train, axis=0, keepdims=True)\n",
    "images_std = np.std(X_test, axis=0, keepdims=True) + 1e-7\n",
    "X_train = (X_train - images_mean) / images_std\n",
    "X_test = (X_test - images_mean) / images_std"
   ]
  },
  {
   "attachments": {},
   "cell_type": "markdown",
   "metadata": {},
   "source": [
    "On crée ensuite le réseau de neuronne."
   ]
  },
  {
   "cell_type": "code",
   "execution_count": 17,
   "metadata": {},
   "outputs": [
    {
     "name": "stdout",
     "output_type": "stream",
     "text": [
      "Model: \"Sequential_CNN\"\n",
      "_________________________________________________________________\n",
      " Layer (type)                Output Shape              Param #   \n",
      "=================================================================\n",
      " dense_2 (Dense)             (None, 256)               262400    \n",
      "                                                                 \n",
      " dense_3 (Dense)             (None, 10)                2570      \n",
      "                                                                 \n",
      "=================================================================\n",
      "Total params: 264,970\n",
      "Trainable params: 264,970\n",
      "Non-trainable params: 0\n",
      "_________________________________________________________________\n"
     ]
    }
   ],
   "source": [
    "## creation du reseau de neuronne\n",
    "model = Sequential(name=\"Sequential_CNN\")\n",
    "# couche de classification\n",
    "model.add(Dense(256, activation='relu', input_shape = [1024]))\n",
    "model.add(Dense(len(unique_label), activation='softmax'))\n",
    "model.summary()"
   ]
  },
  {
   "attachments": {},
   "cell_type": "markdown",
   "metadata": {},
   "source": [
    "Apprentissage :"
   ]
  },
  {
   "cell_type": "code",
   "execution_count": 18,
   "metadata": {},
   "outputs": [
    {
     "name": "stdout",
     "output_type": "stream",
     "text": [
      "Epoch 1/40\n",
      "21/21 [==============================] - 1s 5ms/step - loss: 1.9894 - accuracy: 0.2960\n",
      "Epoch 2/40\n",
      "21/21 [==============================] - 0s 5ms/step - loss: 1.5574 - accuracy: 0.4679\n",
      "Epoch 3/40\n",
      "21/21 [==============================] - 0s 5ms/step - loss: 1.3654 - accuracy: 0.5456\n",
      "Epoch 4/40\n",
      "21/21 [==============================] - 0s 5ms/step - loss: 1.2385 - accuracy: 0.5815\n",
      "Epoch 5/40\n",
      "21/21 [==============================] - 0s 5ms/step - loss: 1.1410 - accuracy: 0.6188\n",
      "Epoch 6/40\n",
      "21/21 [==============================] - 0s 5ms/step - loss: 1.0699 - accuracy: 0.6547\n",
      "Epoch 7/40\n",
      "21/21 [==============================] - 0s 6ms/step - loss: 0.9927 - accuracy: 0.6846\n",
      "Epoch 8/40\n",
      "21/21 [==============================] - 0s 5ms/step - loss: 0.9360 - accuracy: 0.7175\n",
      "Epoch 9/40\n",
      "21/21 [==============================] - 0s 5ms/step - loss: 0.8765 - accuracy: 0.7309\n",
      "Epoch 10/40\n",
      "21/21 [==============================] - 0s 6ms/step - loss: 0.8600 - accuracy: 0.7160\n",
      "Epoch 11/40\n",
      "21/21 [==============================] - 0s 7ms/step - loss: 0.8229 - accuracy: 0.7384\n",
      "Epoch 12/40\n",
      "21/21 [==============================] - 0s 5ms/step - loss: 0.8127 - accuracy: 0.7459\n",
      "Epoch 13/40\n",
      "21/21 [==============================] - 0s 6ms/step - loss: 0.7408 - accuracy: 0.7862\n",
      "Epoch 14/40\n",
      "21/21 [==============================] - 0s 5ms/step - loss: 0.7055 - accuracy: 0.7952\n",
      "Epoch 15/40\n",
      "21/21 [==============================] - 0s 5ms/step - loss: 0.7098 - accuracy: 0.7653\n",
      "Epoch 16/40\n",
      "21/21 [==============================] - 0s 5ms/step - loss: 0.6549 - accuracy: 0.8176\n",
      "Epoch 17/40\n",
      "21/21 [==============================] - 0s 6ms/step - loss: 0.6222 - accuracy: 0.8266\n",
      "Epoch 18/40\n",
      "21/21 [==============================] - 0s 5ms/step - loss: 0.5899 - accuracy: 0.8430\n",
      "Epoch 19/40\n",
      "21/21 [==============================] - 0s 5ms/step - loss: 0.5753 - accuracy: 0.8341\n",
      "Epoch 20/40\n",
      "21/21 [==============================] - 0s 5ms/step - loss: 0.5539 - accuracy: 0.8430\n",
      "Epoch 21/40\n",
      "21/21 [==============================] - 0s 6ms/step - loss: 0.5554 - accuracy: 0.8326\n",
      "Epoch 22/40\n",
      "21/21 [==============================] - 0s 8ms/step - loss: 0.5300 - accuracy: 0.8490\n",
      "Epoch 23/40\n",
      "21/21 [==============================] - 0s 5ms/step - loss: 0.5262 - accuracy: 0.8490\n",
      "Epoch 24/40\n",
      "21/21 [==============================] - 0s 5ms/step - loss: 0.5260 - accuracy: 0.8430\n",
      "Epoch 25/40\n",
      "21/21 [==============================] - 0s 5ms/step - loss: 0.4817 - accuracy: 0.8655\n",
      "Epoch 26/40\n",
      "21/21 [==============================] - 0s 5ms/step - loss: 0.4848 - accuracy: 0.8550\n",
      "Epoch 27/40\n",
      "21/21 [==============================] - 0s 6ms/step - loss: 0.4707 - accuracy: 0.8655\n",
      "Epoch 28/40\n",
      "21/21 [==============================] - 0s 5ms/step - loss: 0.4556 - accuracy: 0.8804\n",
      "Epoch 29/40\n",
      "21/21 [==============================] - 0s 5ms/step - loss: 0.4510 - accuracy: 0.8729\n",
      "Epoch 30/40\n",
      "21/21 [==============================] - 0s 5ms/step - loss: 0.4312 - accuracy: 0.8744\n",
      "Epoch 31/40\n",
      "21/21 [==============================] - 0s 5ms/step - loss: 0.4081 - accuracy: 0.8804\n",
      "Epoch 32/40\n",
      "21/21 [==============================] - 0s 5ms/step - loss: 0.4395 - accuracy: 0.8729\n",
      "Epoch 33/40\n",
      "21/21 [==============================] - 0s 5ms/step - loss: 0.4539 - accuracy: 0.8625\n",
      "Epoch 34/40\n",
      "21/21 [==============================] - 0s 8ms/step - loss: 0.4157 - accuracy: 0.8849\n",
      "Epoch 35/40\n",
      "21/21 [==============================] - 0s 5ms/step - loss: 0.4058 - accuracy: 0.8864\n",
      "Epoch 36/40\n",
      "21/21 [==============================] - 0s 5ms/step - loss: 0.3826 - accuracy: 0.8909\n",
      "Epoch 37/40\n",
      "21/21 [==============================] - 0s 5ms/step - loss: 0.3708 - accuracy: 0.8984\n",
      "Epoch 38/40\n",
      "21/21 [==============================] - 0s 5ms/step - loss: 0.3918 - accuracy: 0.8774\n",
      "Epoch 39/40\n",
      "21/21 [==============================] - 0s 6ms/step - loss: 0.3792 - accuracy: 0.8939\n",
      "Epoch 40/40\n",
      "21/21 [==============================] - 0s 7ms/step - loss: 0.3467 - accuracy: 0.8999\n"
     ]
    }
   ],
   "source": [
    "# paramètres\n",
    "NB_EPOCHS = 40\n",
    "LEARNING_RATE = 0.1\n",
    "MOMENTUM = 0.09\n",
    "DECAY = 0.01\n",
    "\n",
    "#  Choix de la tâche à effectuer = choix de la fonction de loss/pertes/coûts à minimise\n",
    "loss_fcn = tf.keras.losses.SparseCategoricalCrossentropy()# sans alias\n",
    "\n",
    "# compilation ...\n",
    "model.compile(loss=loss_fcn, optimizer='ADAM', metrics=['accuracy'])\n",
    "#model.compile(loss='mean_squared_error', optimizer=optimizer, metrics=['mean_asbolute_error', 'mean_squared_error'])\n",
    "\n",
    "#... et entrainement\n",
    "history = model.fit(X_train, y_train, epochs=NB_EPOCHS)"
   ]
  },
  {
   "attachments": {},
   "cell_type": "markdown",
   "metadata": {},
   "source": [
    "## III. Evaluation du modèle"
   ]
  },
  {
   "cell_type": "code",
   "execution_count": 19,
   "metadata": {},
   "outputs": [
    {
     "name": "stdout",
     "output_type": "stream",
     "text": [
      "11/11 [==============================] - 0s 2ms/step\n",
      "\n",
      "\n",
      "Confusion Matrix\n",
      "[[15  0  3  2  1  0  1  0  1  7]\n",
      " [ 0 26  1  0  0  3  0  0  0  0]\n",
      " [ 1  0 19  4  4  1  0  0  1  7]\n",
      " [ 2  1  1 22  1  1  5  2  2  5]\n",
      " [ 0  1  2  2 26  0  1  3  0  1]\n",
      " [ 0  9  0  1  0 15  3  0  0  2]\n",
      " [ 1  0  0  1  1  0 27  0  0  2]\n",
      " [ 0  1  0  2  0  1  0 28  0  0]\n",
      " [ 2  1  5  4  5  2  2  2 11  0]\n",
      " [ 2  1  2  3  0  2  5  0  2 10]]\n",
      "\n",
      "\n",
      "Classification Report\n",
      "              precision    recall  f1-score   support\n",
      "\n",
      "       blues       0.65      0.50      0.57        30\n",
      "   classical       0.65      0.87      0.74        30\n",
      "     country       0.58      0.51      0.54        37\n",
      "       disco       0.54      0.52      0.53        42\n",
      "      hiphop       0.68      0.72      0.70        36\n",
      "        jazz       0.60      0.50      0.55        30\n",
      "       metal       0.61      0.84      0.71        32\n",
      "         pop       0.80      0.88      0.84        32\n",
      "      reggae       0.65      0.32      0.43        34\n",
      "        rock       0.29      0.37      0.33        27\n",
      "\n",
      "    accuracy                           0.60       330\n",
      "   macro avg       0.61      0.60      0.59       330\n",
      "weighted avg       0.61      0.60      0.59       330\n",
      "\n"
     ]
    }
   ],
   "source": [
    "#Confution Matrix and Classification Report\n",
    "Y_pred = model.predict(X_test)\n",
    "y_pred = np.argmax(Y_pred, axis=1)\n",
    "print()\n",
    "print()\n",
    "print('Confusion Matrix')\n",
    "print(confusion_matrix(y_test, y_pred))\n",
    "print()\n",
    "print()\n",
    "print('Classification Report')\n",
    "print(classification_report(labelInd_test, y_pred, target_names=unique_label))"
   ]
  },
  {
   "attachments": {},
   "cell_type": "markdown",
   "metadata": {},
   "source": [
    "## IV. Enregistrement de l'ensemble d'évaluation"
   ]
  },
  {
   "cell_type": "code",
   "execution_count": 20,
   "metadata": {},
   "outputs": [
    {
     "name": "stdout",
     "output_type": "stream",
     "text": [
      "11/11 [==============================] - 0s 4ms/step - loss: 1.9973 - accuracy: 0.6030\n"
     ]
    }
   ],
   "source": [
    "txt = \"\"\n",
    "txt += \"#ifndef TEST_DATASET_H\\n#define TEST_DATASET_H\\n\\n\"\n",
    "txt += \"#define N_TEST_EXAMPLES \" + str(len(X_test)) + \"\\n\"\n",
    "txt += \"#define N_FEATURES \" + str(len(y_test)) + \"\\n\"\n",
    "txt += \"#define N_CLASSES 10\\n\\n\"\n",
    "\n",
    "txt += \"float test_acc=\" + str(model.evaluate(X_test, y_test)[1]) +\";\\n\\n\"\n",
    "\n",
    "txt += \"float X_test[N_TEST_EXAMPLES][N_FEATURES] = {\\n\"\n",
    "for i in range(len(X_test)-1):\n",
    "    txt += \"{\"\n",
    "    for j in range(len(y_test)-1):\n",
    "        txt += str(X_test[i,j].numpy()) +\",\"\n",
    "    txt += str(X_test[i,len(y_test)-1].numpy()) + \"},\\n\"\n",
    "txt += \"{\"\n",
    "for j in range(len(y_test)-1):\n",
    "    txt += str(X_test[len(X_test)-1,j].numpy()) +\",\"\n",
    "txt += str(X_test[len(X_test)-1,len(y_test)-1].numpy()) + \"}};\\n\\n\"\n",
    "\n",
    "txt += \"float y_test[N_FEATURES]={\"\n",
    "for i in range(len(y_test)-1):\n",
    "    txt += str(y_test[i].numpy()) +\",\"\n",
    "txt += str(y_test[len(y_test)-1].numpy()) +\"};\\n\\n\"\n",
    "\n",
    "txt += \"#endif\"\n",
    "\n",
    "# écriture du code dans le fichier\n",
    "fichier = open(\"../../inference/NeuronalNetwork/test_dataset.h\", \"w\")\n",
    "fichier.write(txt)\n",
    "fichier.close()"
   ]
  },
  {
   "attachments": {},
   "cell_type": "markdown",
   "metadata": {},
   "source": [
    "## V. Enregistrement du modèle sous tensorflow-lite"
   ]
  },
  {
   "cell_type": "code",
   "execution_count": 21,
   "metadata": {},
   "outputs": [
    {
     "name": "stderr",
     "output_type": "stream",
     "text": [
      "WARNING:absl:Found untraced functions such as _update_step_xla while saving (showing 1 of 1). These functions will not be directly callable after loading.\n"
     ]
    },
    {
     "name": "stdout",
     "output_type": "stream",
     "text": [
      "INFO:tensorflow:Assets written to: /tmp/tmp4ucc15yk/assets\n"
     ]
    },
    {
     "name": "stderr",
     "output_type": "stream",
     "text": [
      "INFO:tensorflow:Assets written to: /tmp/tmp4ucc15yk/assets\n",
      "2023-01-19 00:22:14.147555: W tensorflow/compiler/mlir/lite/python/tf_tfl_flatbuffer_helpers.cc:362] Ignored output_format.\n",
      "2023-01-19 00:22:14.147592: W tensorflow/compiler/mlir/lite/python/tf_tfl_flatbuffer_helpers.cc:365] Ignored drop_control_dependency.\n",
      "2023-01-19 00:22:14.148082: I tensorflow/cc/saved_model/reader.cc:45] Reading SavedModel from: /tmp/tmp4ucc15yk\n",
      "2023-01-19 00:22:14.148927: I tensorflow/cc/saved_model/reader.cc:89] Reading meta graph with tags { serve }\n",
      "2023-01-19 00:22:14.148943: I tensorflow/cc/saved_model/reader.cc:130] Reading SavedModel debug info (if present) from: /tmp/tmp4ucc15yk\n",
      "2023-01-19 00:22:14.151947: I tensorflow/cc/saved_model/loader.cc:229] Restoring SavedModel bundle.\n",
      "2023-01-19 00:22:14.185824: I tensorflow/cc/saved_model/loader.cc:213] Running initialization op on SavedModel bundle at path: /tmp/tmp4ucc15yk\n",
      "2023-01-19 00:22:14.193367: I tensorflow/cc/saved_model/loader.cc:305] SavedModel load for tags { serve }; Status: success: OK. Took 45605 microseconds.\n"
     ]
    }
   ],
   "source": [
    "# Convert the model.\n",
    "converter = tf.lite.TFLiteConverter.from_keras_model(model)\n",
    "tflite_model = converter.convert()\n",
    "\n",
    "# Save the model.\n",
    "with open('../../inference/NeuronalNetwork/model.tflite', 'wb') as f:\n",
    "  f.write(tflite_model)"
   ]
  },
  {
   "attachments": {},
   "cell_type": "markdown",
   "metadata": {},
   "source": [
    "## VI. Enregistrement optimisé du modèle sous tensorflowLite"
   ]
  },
  {
   "cell_type": "code",
   "execution_count": 22,
   "metadata": {},
   "outputs": [
    {
     "name": "stderr",
     "output_type": "stream",
     "text": [
      "WARNING:absl:Found untraced functions such as _update_step_xla while saving (showing 1 of 1). These functions will not be directly callable after loading.\n"
     ]
    },
    {
     "name": "stdout",
     "output_type": "stream",
     "text": [
      "INFO:tensorflow:Assets written to: /tmp/tmpqszgyv2o/assets\n"
     ]
    },
    {
     "name": "stderr",
     "output_type": "stream",
     "text": [
      "INFO:tensorflow:Assets written to: /tmp/tmpqszgyv2o/assets\n",
      "2023-01-19 00:22:15.133898: W tensorflow/compiler/mlir/lite/python/tf_tfl_flatbuffer_helpers.cc:362] Ignored output_format.\n",
      "2023-01-19 00:22:15.133976: W tensorflow/compiler/mlir/lite/python/tf_tfl_flatbuffer_helpers.cc:365] Ignored drop_control_dependency.\n",
      "2023-01-19 00:22:15.134235: I tensorflow/cc/saved_model/reader.cc:45] Reading SavedModel from: /tmp/tmpqszgyv2o\n",
      "2023-01-19 00:22:15.135523: I tensorflow/cc/saved_model/reader.cc:89] Reading meta graph with tags { serve }\n",
      "2023-01-19 00:22:15.135561: I tensorflow/cc/saved_model/reader.cc:130] Reading SavedModel debug info (if present) from: /tmp/tmpqszgyv2o\n",
      "2023-01-19 00:22:15.139798: I tensorflow/cc/saved_model/loader.cc:229] Restoring SavedModel bundle.\n",
      "2023-01-19 00:22:15.189616: I tensorflow/cc/saved_model/loader.cc:213] Running initialization op on SavedModel bundle at path: /tmp/tmpqszgyv2o\n",
      "2023-01-19 00:22:15.201394: I tensorflow/cc/saved_model/loader.cc:305] SavedModel load for tags { serve }; Status: success: OK. Took 67160 microseconds.\n"
     ]
    }
   ],
   "source": [
    "# Convert the model.\n",
    "converter = tf.lite.TFLiteConverter.from_keras_model(model)\n",
    "converter.optimizations = [tf.lite.Optimize.DEFAULT]\n",
    "tflite_model = converter.convert()\n",
    "\n",
    "# Save the model.\n",
    "with open('../../inference/NeuronalNetwork/modelOptimize.tflite', 'wb') as f:\n",
    "  f.write(tflite_model)"
   ]
  }
 ],
 "metadata": {
  "kernelspec": {
   "display_name": "vultr-tensorflow",
   "language": "python",
   "name": "python3"
  },
  "language_info": {
   "codemirror_mode": {
    "name": "ipython",
    "version": 3
   },
   "file_extension": ".py",
   "mimetype": "text/x-python",
   "name": "python",
   "nbconvert_exporter": "python",
   "pygments_lexer": "ipython3",
   "version": "3.8.10"
  },
  "orig_nbformat": 4,
  "vscode": {
   "interpreter": {
    "hash": "e7dc7594d92268b386206cffd6139d5884634a15f34fd87543255dfd1480eefc"
   }
  }
 },
 "nbformat": 4,
 "nbformat_minor": 2
}
