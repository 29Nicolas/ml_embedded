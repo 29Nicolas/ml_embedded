{
 "cells": [
  {
   "attachments": {},
   "cell_type": "markdown",
   "metadata": {},
   "source": [
    "# Decision Tree\n",
    "\n",
    "## I. Importation des librairies"
   ]
  },
  {
   "cell_type": "code",
   "execution_count": 90,
   "metadata": {},
   "outputs": [],
   "source": [
    "import csv\n",
    "import numpy as np\n",
    "from sklearn import preprocessing\n",
    "from sklearn.pipeline import make_pipeline\n",
    "from sklearn.tree import DecisionTreeClassifier\n",
    "from usefulCmdsAndFcns import get_metrics, plot_confusion_matrix\n",
    "from sklearn.model_selection import train_test_split, cross_val_score\n",
    "import matplotlib.pyplot as plt"
   ]
  },
  {
   "attachments": {},
   "cell_type": "markdown",
   "metadata": {},
   "source": [
    "## II. Lecture descripteurs\n",
    "Lecture du fichier contenant les descripteurs"
   ]
  },
  {
   "cell_type": "code",
   "execution_count": 91,
   "metadata": {},
   "outputs": [],
   "source": [
    "# extraction des informations du csv\n",
    "with open('../../inference/dataset.csv', newline='') as csvfile:\n",
    "    data = list(csv.reader(csvfile))\n",
    "data = np.array(data)\n",
    "\n",
    "label_names = data[:,1024]\n",
    "unique_label = np.unique(label_names)\n",
    "feature_values = data[:, :1024]"
   ]
  },
  {
   "attachments": {},
   "cell_type": "markdown",
   "metadata": {},
   "source": [
    "## III. Modèle Decision Tree"
   ]
  },
  {
   "cell_type": "code",
   "execution_count": 92,
   "metadata": {},
   "outputs": [
    {
     "data": {
      "text/html": [
       "<style>#sk-container-id-11 {color: black;background-color: white;}#sk-container-id-11 pre{padding: 0;}#sk-container-id-11 div.sk-toggleable {background-color: white;}#sk-container-id-11 label.sk-toggleable__label {cursor: pointer;display: block;width: 100%;margin-bottom: 0;padding: 0.3em;box-sizing: border-box;text-align: center;}#sk-container-id-11 label.sk-toggleable__label-arrow:before {content: \"▸\";float: left;margin-right: 0.25em;color: #696969;}#sk-container-id-11 label.sk-toggleable__label-arrow:hover:before {color: black;}#sk-container-id-11 div.sk-estimator:hover label.sk-toggleable__label-arrow:before {color: black;}#sk-container-id-11 div.sk-toggleable__content {max-height: 0;max-width: 0;overflow: hidden;text-align: left;background-color: #f0f8ff;}#sk-container-id-11 div.sk-toggleable__content pre {margin: 0.2em;color: black;border-radius: 0.25em;background-color: #f0f8ff;}#sk-container-id-11 input.sk-toggleable__control:checked~div.sk-toggleable__content {max-height: 200px;max-width: 100%;overflow: auto;}#sk-container-id-11 input.sk-toggleable__control:checked~label.sk-toggleable__label-arrow:before {content: \"▾\";}#sk-container-id-11 div.sk-estimator input.sk-toggleable__control:checked~label.sk-toggleable__label {background-color: #d4ebff;}#sk-container-id-11 div.sk-label input.sk-toggleable__control:checked~label.sk-toggleable__label {background-color: #d4ebff;}#sk-container-id-11 input.sk-hidden--visually {border: 0;clip: rect(1px 1px 1px 1px);clip: rect(1px, 1px, 1px, 1px);height: 1px;margin: -1px;overflow: hidden;padding: 0;position: absolute;width: 1px;}#sk-container-id-11 div.sk-estimator {font-family: monospace;background-color: #f0f8ff;border: 1px dotted black;border-radius: 0.25em;box-sizing: border-box;margin-bottom: 0.5em;}#sk-container-id-11 div.sk-estimator:hover {background-color: #d4ebff;}#sk-container-id-11 div.sk-parallel-item::after {content: \"\";width: 100%;border-bottom: 1px solid gray;flex-grow: 1;}#sk-container-id-11 div.sk-label:hover label.sk-toggleable__label {background-color: #d4ebff;}#sk-container-id-11 div.sk-serial::before {content: \"\";position: absolute;border-left: 1px solid gray;box-sizing: border-box;top: 0;bottom: 0;left: 50%;z-index: 0;}#sk-container-id-11 div.sk-serial {display: flex;flex-direction: column;align-items: center;background-color: white;padding-right: 0.2em;padding-left: 0.2em;position: relative;}#sk-container-id-11 div.sk-item {position: relative;z-index: 1;}#sk-container-id-11 div.sk-parallel {display: flex;align-items: stretch;justify-content: center;background-color: white;position: relative;}#sk-container-id-11 div.sk-item::before, #sk-container-id-11 div.sk-parallel-item::before {content: \"\";position: absolute;border-left: 1px solid gray;box-sizing: border-box;top: 0;bottom: 0;left: 50%;z-index: -1;}#sk-container-id-11 div.sk-parallel-item {display: flex;flex-direction: column;z-index: 1;position: relative;background-color: white;}#sk-container-id-11 div.sk-parallel-item:first-child::after {align-self: flex-end;width: 50%;}#sk-container-id-11 div.sk-parallel-item:last-child::after {align-self: flex-start;width: 50%;}#sk-container-id-11 div.sk-parallel-item:only-child::after {width: 0;}#sk-container-id-11 div.sk-dashed-wrapped {border: 1px dashed gray;margin: 0 0.4em 0.5em 0.4em;box-sizing: border-box;padding-bottom: 0.4em;background-color: white;}#sk-container-id-11 div.sk-label label {font-family: monospace;font-weight: bold;display: inline-block;line-height: 1.2em;}#sk-container-id-11 div.sk-label-container {text-align: center;}#sk-container-id-11 div.sk-container {/* jupyter's `normalize.less` sets `[hidden] { display: none; }` but bootstrap.min.css set `[hidden] { display: none !important; }` so we also need the `!important` here to be able to override the default hidden behavior on the sphinx rendered scikit-learn.org. See: https://github.com/scikit-learn/scikit-learn/issues/21755 */display: inline-block !important;position: relative;}#sk-container-id-11 div.sk-text-repr-fallback {display: none;}</style><div id=\"sk-container-id-11\" class=\"sk-top-container\"><div class=\"sk-text-repr-fallback\"><pre>Pipeline(steps=[(&#x27;standardscaler&#x27;, StandardScaler()),\n",
       "                (&#x27;decisiontreeclassifier&#x27;, DecisionTreeClassifier())])</pre><b>In a Jupyter environment, please rerun this cell to show the HTML representation or trust the notebook. <br />On GitHub, the HTML representation is unable to render, please try loading this page with nbviewer.org.</b></div><div class=\"sk-container\" hidden><div class=\"sk-item sk-dashed-wrapped\"><div class=\"sk-label-container\"><div class=\"sk-label sk-toggleable\"><input class=\"sk-toggleable__control sk-hidden--visually\" id=\"sk-estimator-id-31\" type=\"checkbox\" ><label for=\"sk-estimator-id-31\" class=\"sk-toggleable__label sk-toggleable__label-arrow\">Pipeline</label><div class=\"sk-toggleable__content\"><pre>Pipeline(steps=[(&#x27;standardscaler&#x27;, StandardScaler()),\n",
       "                (&#x27;decisiontreeclassifier&#x27;, DecisionTreeClassifier())])</pre></div></div></div><div class=\"sk-serial\"><div class=\"sk-item\"><div class=\"sk-estimator sk-toggleable\"><input class=\"sk-toggleable__control sk-hidden--visually\" id=\"sk-estimator-id-32\" type=\"checkbox\" ><label for=\"sk-estimator-id-32\" class=\"sk-toggleable__label sk-toggleable__label-arrow\">StandardScaler</label><div class=\"sk-toggleable__content\"><pre>StandardScaler()</pre></div></div></div><div class=\"sk-item\"><div class=\"sk-estimator sk-toggleable\"><input class=\"sk-toggleable__control sk-hidden--visually\" id=\"sk-estimator-id-33\" type=\"checkbox\" ><label for=\"sk-estimator-id-33\" class=\"sk-toggleable__label sk-toggleable__label-arrow\">DecisionTreeClassifier</label><div class=\"sk-toggleable__content\"><pre>DecisionTreeClassifier()</pre></div></div></div></div></div></div></div>"
      ],
      "text/plain": [
       "Pipeline(steps=[('standardscaler', StandardScaler()),\n",
       "                ('decisiontreeclassifier', DecisionTreeClassifier())])"
      ]
     },
     "execution_count": 92,
     "metadata": {},
     "output_type": "execute_result"
    }
   ],
   "source": [
    "# split données\n",
    "X_train, X_test, y_train, y_test = train_test_split(feature_values, label_names, test_size=0.33, random_state=43)\n",
    "\n",
    "# Decision Tree Classifier: entrainement de l'IA\n",
    "DecisionTreeClassifier_ml = make_pipeline(preprocessing.StandardScaler(), DecisionTreeClassifier())\n",
    "DecisionTreeClassifier_ml.fit(X_train, y_train)"
   ]
  },
  {
   "attachments": {},
   "cell_type": "markdown",
   "metadata": {},
   "source": [
    "## IV. Evaluation du modèle"
   ]
  },
  {
   "cell_type": "code",
   "execution_count": 93,
   "metadata": {},
   "outputs": [
    {
     "name": "stdout",
     "output_type": "stream",
     "text": [
      "Confusion matrix, without normalization\n",
      "[[13  0  6  1  3  3  4  0  1  0]\n",
      " [ 1 24  1  0  0  1  0  1  1  1]\n",
      " [ 4  1  8  2  3  5  2  2  3  3]\n",
      " [ 1  0  8 11  8  0  5  3  3 11]\n",
      " [ 1  0  2  7  9  1  3  4  5  3]\n",
      " [ 0  5  4  0  1 16  0  0  4  1]\n",
      " [ 1  0  2  3  2  1 18  0  2  4]\n",
      " [ 0  0  1  6  3  0  0 15  2  0]\n",
      " [ 2  2  0  6  2  3  1  0 13  4]\n",
      " [ 3  0  2  2  0  0  3  0  6 11]]\n",
      "Accuracy: 0.4182\n",
      "Precision: 0.4187\n",
      "Recall: 0.4182\n",
      "F1 Score: 0.4159\n",
      "Scores Decision Tree:  0.3242424242424242\n"
     ]
    },
    {
     "data": {
      "image/png": "[encoded data removed]",
      "text/plain": [
       "<Figure size 640x480 with 2 Axes>"
      ]
     },
     "metadata": {},
     "output_type": "display_data"
    }
   ],
   "source": [
    "# evaluation du modele\n",
    "plot_confusion_matrix(y_test,DecisionTreeClassifier_ml.predict(X_test))\n",
    "get_metrics(y_test,DecisionTreeClassifier_ml.predict(X_test))\n",
    "scores = cross_val_score(DecisionTreeClassifier_ml, X_test, y_test)\n",
    "print(\"Scores Decision Tree: \",scores.mean())\n",
    "accuracy = DecisionTreeClassifier_ml.score(X_test, y_test)\n",
    "plt.show()"
   ]
  },
  {
   "attachments": {},
   "cell_type": "markdown",
   "metadata": {},
   "source": [
    "## IV. Enregistrement du modèle"
   ]
  },
  {
   "attachments": {},
   "cell_type": "markdown",
   "metadata": {},
   "source": [
    "Enregistrement de la normalisation"
   ]
  },
  {
   "cell_type": "code",
   "execution_count": 94,
   "metadata": {},
   "outputs": [],
   "source": [
    "# open the file in the write mode\n",
    "with open('../../inference/DecisionTree/model_DecisionTreeClassifier_ml.csv', 'w', encoding='UTF8') as f:\n",
    "    # create the csv writer\n",
    "    writer = csv.writer(f)\n",
    "    # write a row to the csv file\n",
    "    writer.writerow(DecisionTreeClassifier_ml['standardscaler'].scale_)\n",
    "    writer.writerow(DecisionTreeClassifier_ml['standardscaler'].mean_)"
   ]
  },
  {
   "attachments": {},
   "cell_type": "markdown",
   "metadata": {},
   "source": [
    "Pour enregistrer le modèle, il faut descendre dans l'arbre. Nous avons donc implémenté une fonction récursive pour descendre dans l'arbre jusqu'à arriver au feuille lorsque les deux enfants de l'arbre sont identique c'est-à-dire qu'il n'y a pas d'enfant et qu'on est au plus bas de l'arbre."
   ]
  },
  {
   "cell_type": "code",
   "execution_count": 95,
   "metadata": {},
   "outputs": [],
   "source": [
    "def lecture_node(i):\n",
    "    '''\n",
    "    fonction permettant de parcourir l'arbre de décision de manière récursif et écrivant le code cpp permettant la décision\n",
    "    prend en entrée le node i courant traité\n",
    "    sort le texte correspondant au morceau de code de ses enfants\n",
    "    '''\n",
    "    clf = DecisionTreeClassifier_ml['decisiontreeclassifier']\n",
    "    if(clf.tree_.children_left[i] == clf.tree_.children_right[i]):\n",
    "        # condition d'arret : le node est une feuille de l'arbre\n",
    "        return \"cout << \\\"\" + unique_label[np.argmax(clf.tree_.value[i])] + \"\\\" << endl; return \" + str(np.argmax(clf.tree_.value[i])) + \";\"\n",
    "    else:\n",
    "        # sinon on traite les enfants\n",
    "        txt_1 = lecture_node(clf.tree_.children_left[i])\n",
    "        txt_2 = lecture_node(clf.tree_.children_right[i])\n",
    "        if(clf.tree_.feature[i] <512):\n",
    "            feature = \"mu[\"+str(clf.tree_.feature[i]) + \"]\"\n",
    "        else:\n",
    "            feature = \"sigma[\" + str(clf.tree_.feature[i]-512) + \"]\"\n",
    "        Text_1 = \"if(\"+ feature + \" <= \" + str(clf.tree_.threshold[i]) + \"){\" + txt_1 + \"}\"\n",
    "        Text_2 = \"else{\" + txt_2 + \"}\"\n",
    "        return Text_1 + Text_2"
   ]
  },
  {
   "attachments": {},
   "cell_type": "markdown",
   "metadata": {},
   "source": [
    "Génération du code cpp"
   ]
  },
  {
   "cell_type": "code",
   "execution_count": 96,
   "metadata": {},
   "outputs": [],
   "source": [
    "txt = \"\"\n",
    "txt += \"#include <iostream>  \\n\"\n",
    "txt += \"#include \\\"codeDecisionTree.h\\\" \\n\"\n",
    "txt += \"using namespace std; \\n \\n\"\n",
    "# fonction de decision arbre\n",
    "txt += \"int decision_tree(double mu[], double sigma[]){ \\n\"\n",
    "txt += lecture_node(0)\n",
    "txt += \"}\"\n",
    "\n",
    "# écriture du code dans le fichier\n",
    "fichier = open(\"../../inference/DecisionTree/codeDecisionTree.cpp\", \"w\")\n",
    "fichier.write(txt)\n",
    "fichier.close()\n",
    "\n",
    "## ecriture du h\n",
    "txt = \"#ifndef CODE_DECISION_TREE__H \\n #define CODE_DECISION_TREE_H \\nint decision_tree(double mu[], double sigma[]);\\n#endif\"\n",
    "fichier = open(\"../../inference/DecisionTree/codeDecisionTree.h\", \"w\")\n",
    "fichier.write(txt)\n",
    "fichier.close()"
   ]
  },
  {
   "attachments": {},
   "cell_type": "markdown",
   "metadata": {},
   "source": [
    "Codage des labels en indices"
   ]
  },
  {
   "cell_type": "code",
   "execution_count": 97,
   "metadata": {},
   "outputs": [],
   "source": [
    "unique_label = np.unique(label_names)\n",
    "\n",
    "# enc labelNames to indices\n",
    "encName2Ind = preprocessing.LabelEncoder()\n",
    "encName2Ind.fit(unique_label)\n",
    "labelIndices_unique = encName2Ind.transform(unique_label)\n",
    "labelIndices  = encName2Ind.transform(label_names)\n",
    "\n",
    "# Conversion des noms des labels en indices\n",
    "y_test = encName2Ind.transform(y_test)"
   ]
  },
  {
   "attachments": {},
   "cell_type": "markdown",
   "metadata": {},
   "source": [
    "Enregistrement des données d'évaluation"
   ]
  },
  {
   "cell_type": "code",
   "execution_count": 98,
   "metadata": {},
   "outputs": [],
   "source": [
    "txt = \"\"\n",
    "txt += \"#ifndef TEST_DATASET_H\\n#define TEST_DATASET_H\\n\\n\"\n",
    "txt += \"#define N_TEST_EXAMPLES \" + str(X_test.shape[0]) + \"\\n\"\n",
    "txt += \"#define N_FEATURES \" + str(X_test.shape[1]) + \"\\n\"\n",
    "txt += \"#define N_CLASSES 10\\n\\n\"\n",
    "\n",
    "txt += \"float test_acc=\" + str(accuracy) +\";\\n\\n\"\n",
    "\n",
    "txt += \"float X_test[N_TEST_EXAMPLES][N_FEATURES] = {\\n\"\n",
    "for i in range(X_test.shape[0]-1):\n",
    "    txt += \"{\"\n",
    "    for j in range(X_test.shape[1]-1):\n",
    "        txt += str(X_test[i,j]) +\",\"\n",
    "    txt += str(X_test[i,X_test.shape[1]-1]) + \"},\\n\"\n",
    "txt += \"{\"\n",
    "for j in range(X_test.shape[1]-1):\n",
    "    txt += str(X_test[X_test.shape[0]-1,j]) +\",\"\n",
    "txt += str(X_test[X_test.shape[0]-1,X_test.shape[1]-1]) + \"}};\\n\\n\"\n",
    "\n",
    "txt += \"int y_test[N_FEATURES]={\"\n",
    "for i in range(X_test.shape[0]-1):\n",
    "    txt += str(y_test[i]) +\",\"\n",
    "txt += str(y_test[X_test.shape[0]-1]) +\"};\\n\\n\"\n",
    "\n",
    "txt += \"#endif\"\n",
    "\n",
    "# écriture du code dans le fichier\n",
    "fichier = open(\"../../inference/DecisionTree/test_dataset.h\", \"w\")\n",
    "fichier.write(txt)\n",
    "fichier.close()"
   ]
  }
 ],
 "metadata": {
  "kernelspec": {
   "display_name": "vultr-tensorflow",
   "language": "python",
   "name": "python3"
  },
  "language_info": {
   "codemirror_mode": {
    "name": "ipython",
    "version": 3
   },
   "file_extension": ".py",
   "mimetype": "text/x-python",
   "name": "python",
   "nbconvert_exporter": "python",
   "pygments_lexer": "ipython3",
   "version": "3.8.10"
  },
  "orig_nbformat": 4,
  "vscode": {
   "interpreter": {
    "hash": "e7dc7594d92268b386206cffd6139d5884634a15f34fd87543255dfd1480eefc"
   }
  }
 },
 "nbformat": 4,
 "nbformat_minor": 2
}
